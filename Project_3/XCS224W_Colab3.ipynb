{
  "cells": [
    {
      "cell_type": "markdown",
      "metadata": {
        "id": "XuXWJLEm2UWS"
      },
      "source": [
        "# **CS224W - Colab 3**\n",
        "\n",
        "[![Open In Colab](https://colab.research.google.com/assets/colab-badge.svg)](https://colab.research.google.com/github/scpd-proed/XCS224W-Colab3/blob/main/Notebook/XCS224W_Colab3.ipynb)\n",
        "\n",
        "Before opening the colab with the badge, you would need to allow Google Colab to access the GitHub private repositories. Please check therefore [this tutorial](https://colab.research.google.com/github/googlecolab/colabtools/blob/master/notebooks/colab-github-demo.ipynb#:~:text=Navigate%20to%20http%3A%2F%2Fcolab,to%20read%20the%20private%20files.).\n",
        "\n",
        "If colab is opened with this badge, make sure please **save copy to drive** in 'File' menu before running the notebook."
      ]
    },
    {
      "cell_type": "markdown",
      "metadata": {
        "id": "8gzsP50bF6Gb"
      },
      "source": [
        "In Colab 2 you constructed GNN models by using PyTorch Geometric's built in GCN layer, `GCNConv`. In this Colab you will go a step deeper and implement your GNN layers directly: **GraphSAGE** ([Hamilton et al. (2017)](https://arxiv.org/abs/1706.02216)) and **GAT** ([Veličković et al. (2018)](https://arxiv.org/abs/1710.10903)). Using these GNN layers you will run and test your models on the CORA dataset, a standard citation network benchmark dataset.\n",
        "\n",
        "Next, you will learn how to use [DeepSNAP](https://snap.stanford.edu/deepsnap/), a Python library enabling efficient deep learning on graphs. With DeepSNAP you will learn how to easily split graphs in different ways and apply graph dataset transformations.\n",
        "\n",
        "Lastly, using DeepSNAP's transductive link prediction dataset spliting functionality, you will construct a simple GNN model for the task of edge property prediction (link prediction).\n",
        "\n",
        "**Note**: Make sure to **sequentially run all the cells in each section** so that the intermediate variables / packages will carry over to the next cell\n",
        "\n",
        "Have fun and good luck on Colab 3 :)"
      ]
    },
    {
      "cell_type": "markdown",
      "metadata": {
        "id": "OcqscyiXMuRX"
      },
      "source": [
        "## Building + Debugging Notes\n",
        "While working through this Colab and future Colabs, we strongly encourage you to follow a couple of building / debugging strategies:\n",
        "- During debugging make sure to run your notebook using the CPU runtime. You can change the notebook runtime by selecting `Runtime` and then `Change runtime type`. From the dropdown, select `None` as the `hardware accelerator`.\n",
        "- When working with PyTorch and Neural Network models, understanding the shapes of different tensors, especially the input and output tensors is incredibly helpful.\n",
        "- When training models, it is helpful to start by only running 1 epoch or even just a couple of batch iterations. This way you can check that all your tensor shapes and logic match up, while also tracking expected behavior, such as a decreasing training loss. Remember to comment out / save the default number of epochs that we provide you.\n"
      ]
    },
    {
      "cell_type": "markdown",
      "metadata": {
        "id": "MSaetj53YnT6"
      },
      "source": [
        "# Device\n",
        "We recommend using a GPU for this Colab.\n",
        "\n",
        "Please click `Runtime` and then `Change runtime type`. Then set the `hardware accelerator` to **GPU**."
      ]
    },
    {
      "cell_type": "markdown",
      "metadata": {
        "id": "67gOQITlCNQi"
      },
      "source": [
        "## Setup\n",
        "First let us check which version of PyTorch you are running"
      ]
    },
    {
      "cell_type": "code",
      "execution_count": 1,
      "metadata": {
        "colab": {
          "base_uri": "https://localhost:8080/"
        },
        "id": "2vkP8pA1qBE5",
        "outputId": "d36ea03f-950e-4b90-b057-16b84094f018"
      },
      "outputs": [
        {
          "output_type": "stream",
          "name": "stdout",
          "text": [
            "PyTorch has version 2.5.1+cu121\n"
          ]
        }
      ],
      "source": [
        "import torch\n",
        "import os\n",
        "print(\"PyTorch has version {}\".format(torch.__version__))"
      ]
    },
    {
      "cell_type": "markdown",
      "metadata": {
        "id": "4TIkPY1Abwq-"
      },
      "source": [
        "Download the necessary packages for PyG. Make sure that your version of torch matches the output from the cell above. In case of any issues, more information can be found on the [PyG's installation page](https://pytorch-geometric.readthedocs.io/en/latest/notes/installation.html)."
      ]
    },
    {
      "cell_type": "code",
      "execution_count": 2,
      "metadata": {
        "colab": {
          "base_uri": "https://localhost:8080/"
        },
        "id": "J_m9l6OYCQZP",
        "outputId": "871eae94-b951-4111-b6b0-05458eee310f"
      },
      "outputs": [
        {
          "output_type": "stream",
          "name": "stdout",
          "text": [
            "Looking in links: https://pytorch-geometric.com/whl/torch-2.4.0+cu121.html\n",
            "Requirement already satisfied: torch-scatter in /usr/local/lib/python3.10/dist-packages (2.1.2+pt24cu121)\n",
            "Looking in links: https://pytorch-geometric.com/whl/torch-2.4.0+cu121.html\n",
            "Requirement already satisfied: torch-sparse in /usr/local/lib/python3.10/dist-packages (0.6.18+pt24cu121)\n",
            "Requirement already satisfied: scipy in /usr/local/lib/python3.10/dist-packages (from torch-sparse) (1.13.1)\n",
            "Requirement already satisfied: numpy<2.3,>=1.22.4 in /usr/local/lib/python3.10/dist-packages (from scipy->torch-sparse) (1.26.4)\n",
            "Requirement already satisfied: torch-geometric in /usr/local/lib/python3.10/dist-packages (2.6.1)\n",
            "Requirement already satisfied: aiohttp in /usr/local/lib/python3.10/dist-packages (from torch-geometric) (3.10.10)\n",
            "Requirement already satisfied: fsspec in /usr/local/lib/python3.10/dist-packages (from torch-geometric) (2024.10.0)\n",
            "Requirement already satisfied: jinja2 in /usr/local/lib/python3.10/dist-packages (from torch-geometric) (3.1.4)\n",
            "Requirement already satisfied: numpy in /usr/local/lib/python3.10/dist-packages (from torch-geometric) (1.26.4)\n",
            "Requirement already satisfied: psutil>=5.8.0 in /usr/local/lib/python3.10/dist-packages (from torch-geometric) (5.9.5)\n",
            "Requirement already satisfied: pyparsing in /usr/local/lib/python3.10/dist-packages (from torch-geometric) (3.2.0)\n",
            "Requirement already satisfied: requests in /usr/local/lib/python3.10/dist-packages (from torch-geometric) (2.32.3)\n",
            "Requirement already satisfied: tqdm in /usr/local/lib/python3.10/dist-packages (from torch-geometric) (4.66.6)\n",
            "Requirement already satisfied: aiohappyeyeballs>=2.3.0 in /usr/local/lib/python3.10/dist-packages (from aiohttp->torch-geometric) (2.4.3)\n",
            "Requirement already satisfied: aiosignal>=1.1.2 in /usr/local/lib/python3.10/dist-packages (from aiohttp->torch-geometric) (1.3.1)\n",
            "Requirement already satisfied: attrs>=17.3.0 in /usr/local/lib/python3.10/dist-packages (from aiohttp->torch-geometric) (24.2.0)\n",
            "Requirement already satisfied: frozenlist>=1.1.1 in /usr/local/lib/python3.10/dist-packages (from aiohttp->torch-geometric) (1.5.0)\n",
            "Requirement already satisfied: multidict<7.0,>=4.5 in /usr/local/lib/python3.10/dist-packages (from aiohttp->torch-geometric) (6.1.0)\n",
            "Requirement already satisfied: yarl<2.0,>=1.12.0 in /usr/local/lib/python3.10/dist-packages (from aiohttp->torch-geometric) (1.17.1)\n",
            "Requirement already satisfied: async-timeout<5.0,>=4.0 in /usr/local/lib/python3.10/dist-packages (from aiohttp->torch-geometric) (4.0.3)\n",
            "Requirement already satisfied: MarkupSafe>=2.0 in /usr/local/lib/python3.10/dist-packages (from jinja2->torch-geometric) (3.0.2)\n",
            "Requirement already satisfied: charset-normalizer<4,>=2 in /usr/local/lib/python3.10/dist-packages (from requests->torch-geometric) (3.4.0)\n",
            "Requirement already satisfied: idna<4,>=2.5 in /usr/local/lib/python3.10/dist-packages (from requests->torch-geometric) (3.10)\n",
            "Requirement already satisfied: urllib3<3,>=1.21.1 in /usr/local/lib/python3.10/dist-packages (from requests->torch-geometric) (2.2.3)\n",
            "Requirement already satisfied: certifi>=2017.4.17 in /usr/local/lib/python3.10/dist-packages (from requests->torch-geometric) (2024.8.30)\n",
            "Requirement already satisfied: typing-extensions>=4.1.0 in /usr/local/lib/python3.10/dist-packages (from multidict<7.0,>=4.5->aiohttp->torch-geometric) (4.12.2)\n",
            "Requirement already satisfied: propcache>=0.2.0 in /usr/local/lib/python3.10/dist-packages (from yarl<2.0,>=1.12.0->aiohttp->torch-geometric) (0.2.0)\n",
            "  Preparing metadata (setup.py) ... \u001b[?25l\u001b[?25hdone\n"
          ]
        }
      ],
      "source": [
        "# Install torch geometric\n",
        "import os\n",
        "if 'IS_GRADESCOPE_ENV' not in os.environ:\n",
        "  !pip install torch-scatter -f https://pytorch-geometric.com/whl/torch-2.4.0+cu121.html\n",
        "  !pip install torch-sparse -f https://pytorch-geometric.com/whl/torch-2.4.0+cu121.html\n",
        "  !pip install torch-geometric\n",
        "  # Fix for Deepsnap PyG 2.4.x compatibility issue (https://github.com/snap-stanford/deepsnap/issues/53)\n",
        "  !pip install -q git+https://github.com/SebastianHurubaru/deepsnap.git"
      ]
    },
    {
      "cell_type": "code",
      "execution_count": 3,
      "metadata": {
        "colab": {
          "base_uri": "https://localhost:8080/",
          "height": 35
        },
        "id": "PRfgbfTjCRD_",
        "outputId": "fceb160c-65bf-4822-e2a8-a1245d02bca7"
      },
      "outputs": [
        {
          "output_type": "execute_result",
          "data": {
            "text/plain": [
              "'2.6.1'"
            ],
            "application/vnd.google.colaboratory.intrinsic+json": {
              "type": "string"
            }
          },
          "metadata": {},
          "execution_count": 3
        }
      ],
      "source": [
        "import torch_geometric\n",
        "torch_geometric.__version__"
      ]
    },
    {
      "cell_type": "markdown",
      "metadata": {
        "id": "ZoXlf4MtYrbz"
      },
      "source": [
        "# 1) GNN Layers"
      ]
    },
    {
      "cell_type": "markdown",
      "metadata": {
        "id": "TQy2RBfgYut4"
      },
      "source": [
        "## Implementing Layer Modules\n",
        "\n",
        "In Colab 2, you implemented a GCN model for node and graph classification tasks. However, for that notebook you took advantage of PyG's built in GCN module, similar to the way you might use PyTorch's built in CNN layer. For Colab 3, we provide a general Graph Neural Network Stack (i.e. the logic for applying multiple GNN layers with a post-message passing classification head). Using this flexible class definition, you will plugin and compare the performance of your own message passing layer implementations: GraphSAGE and GAT.\n",
        "\n",
        "You will use your layer implemenations for node classification on the CORA dataset, a standard citation network benchmark. In this dataset, nodes correspond to documents and edges correspond to undirected citations. Each node or document in the graph is assigned a class label and features based on the documents binarized bag-of-words representation. Specifically, the Cora graph has 2708 nodes, 5429 edges, 7 prediction classes, and 1433 features per node."
      ]
    },
    {
      "cell_type": "markdown",
      "metadata": {
        "id": "H4ne6Gw-CT5G"
      },
      "source": [
        "## GNN Stack Module\n",
        "\n",
        "Below is our provided implementation of a general GNN stack, where you can plugin any GNN layer, such as **GraphSage**, **GAT**, etc. This module is provided for you. Your implementations of the **GraphSage** and **GAT** layers will function as components in the GNNStack Module."
      ]
    },
    {
      "cell_type": "code",
      "execution_count": 4,
      "metadata": {
        "id": "Ys8vZAFPCWWe"
      },
      "outputs": [],
      "source": [
        "import torch\n",
        "import torch_scatter\n",
        "import torch.nn as nn\n",
        "import torch.nn.functional as F\n",
        "\n",
        "import torch_geometric.nn as pyg_nn\n",
        "import torch_geometric.utils as pyg_utils\n",
        "\n",
        "from torch import Tensor\n",
        "from typing import Union, Tuple, Optional\n",
        "from torch_geometric.typing import (OptPairTensor, Adj, Size, NoneType,\n",
        "                                    OptTensor)\n",
        "\n",
        "from torch.nn import Parameter, Linear\n",
        "from torch_sparse import SparseTensor, set_diag\n",
        "from torch_geometric.nn.conv import MessagePassing\n",
        "from torch_geometric.utils import remove_self_loops, add_self_loops, softmax\n",
        "\n",
        "class GNNStack(torch.nn.Module):\n",
        "    def __init__(self, input_dim, hidden_dim, output_dim, args, emb=False):\n",
        "        super(GNNStack, self).__init__()\n",
        "        conv_model = self.build_conv_model(args.model_type)\n",
        "        self.convs = nn.ModuleList()\n",
        "        self.convs.append(conv_model(input_dim, hidden_dim, args))\n",
        "        assert (args.num_layers >= 1), 'Number of layers is not >=1'\n",
        "        for l in range(args.num_layers-1):\n",
        "            self.convs.append(conv_model(args.heads * hidden_dim, hidden_dim, args))\n",
        "\n",
        "        # post-message-passing\n",
        "        self.post_mp = nn.Sequential(\n",
        "            nn.Linear(args.heads * hidden_dim, hidden_dim), nn.ReLU(), nn.Dropout(args.dropout),\n",
        "            nn.Linear(hidden_dim, output_dim))\n",
        "\n",
        "        self.dropout = args.dropout\n",
        "        self.num_layers = args.num_layers\n",
        "\n",
        "        self.emb = emb\n",
        "\n",
        "    def build_conv_model(self, model_type):\n",
        "        if model_type == 'GraphSage':\n",
        "            return GraphSage\n",
        "        elif model_type == 'GAT':\n",
        "            # When applying GAT with num heads > 1, you need to modify the\n",
        "            # input and output dimension of the conv layers (self.convs),\n",
        "            # to ensure that the input dim of the next layer is num heads\n",
        "            # multiplied by the output dim of the previous layer.\n",
        "            # HINT: In case you want to play with multiheads, you need to change the for-loop that builds up self.convs to be\n",
        "            # self.convs.append(conv_model(hidden_dim * num_heads, hidden_dim)),\n",
        "            # and also the first nn.Linear(hidden_dim * num_heads, hidden_dim) in post-message-passing.\n",
        "            return GAT\n",
        "\n",
        "    def forward(self, data):\n",
        "        x, edge_index, batch = data.x, data.edge_index, data.batch\n",
        "\n",
        "        for i in range(self.num_layers):\n",
        "            x = self.convs[i](x, edge_index)\n",
        "            x = F.relu(x)\n",
        "            x = F.dropout(x, p=self.dropout,training=self.training)\n",
        "\n",
        "        x = self.post_mp(x)\n",
        "\n",
        "        if self.emb == True:\n",
        "            return x\n",
        "\n",
        "        return F.log_softmax(x, dim=1)\n",
        "\n",
        "    def loss(self, pred, label):\n",
        "        return F.nll_loss(pred, label)"
      ]
    },
    {
      "cell_type": "markdown",
      "metadata": {
        "id": "5nW_XpEwASNZ"
      },
      "source": [
        "## Creating Your Own Message Passing Layer\n",
        "\n",
        "Now it is time to implement your own message passing layers! Working through this part will help you become acutely familiar with the behind the scenes work of implementing Pytorch Message Passing Layers, allowing you to build you own custom GNN models. In doing so, you will work with and implement 3 critcal functions needed to define a PyG Message Passing Layer: `forward`, `message`, and `aggregate`.\n",
        "\n",
        "Before diving head first into the coding details, let us quickly review the key components of the message passing process. First, we focus on a single round of messsage passing with respect to a single node $x$, which we refer to as the central node. The goal of the $lth$ layer of message passing is to update $x$'s feature vector from $x^{l-1}$ to $x^l$. To do so, we implement the following steps: 1) each neighboring node $v$ passes its current message $v^{l-1}$ across the edge $(v, x)$ - 2) for the node $x$, we aggregate all the messages of neighboring nodes (for example through a sum or mean) - and 3) we transform the aggregated information by e.g. applying linear and non-linear transformations. Altogether, the message passing process is applied such that every node $u$ in our graph updates its embedding through acting as the central node $x$ in step 1-3 described above.\n",
        "\n",
        "Now, let's apply this process of propagating and transforming information within the graph to that of coding a single message passing layer. Overall, the general paradigm of message passing layers is: 1) pre-processing -> 2) **message passing** / propagation -> 3) post-processing. The `forward` function that you will implement captures this execution logic. Namely, the `forward` function handles the pre and post-processing of node features / embeddings, as well as initiates message passing by calling the `propagate` function.\n",
        "\n",
        "\n",
        "The `propagate` function encapsulates the actual message passing process within the graph! It does so by calling three important functions: 1) `message`, 2) `aggregate`, and 3) `update`. Your implementation will vary slightly from this, as you will not explicitly implement `update`, but instead place the logic for updating node embeddings after message passing and within the `forward` function. To be more specific, after information is propagated (message passing + aggregation), we can further transform the node embeddings outputed by `propagate`. Overall, the output of `forward` is exactly the node embeddings after one GNN layer.\n",
        "\n",
        "Lastly, before starting to implement our own layer, let us dig a bit deeper into each of the functions described above:\n",
        "\n",
        "1.\n",
        "\n",
        "```\n",
        "def propagate(edge_index, x=(x_src, x_dst), extra=(extra_src, extra_dst), size=size):\n",
        "```\n",
        "Calling `propagate` initiates the message passing process. Looking at the function parameters, we highlight a couple of key parameters.\n",
        "\n",
        "  - `edge_index` is passed to the forward function and captures the edge structure of the graph. `edge_index` is of shape - `[2, E]`, where `edge_index[:, e]` represents a single edge $e$ in the graph.\n",
        "  - `x=(x_src, x_dst)` represents the node features that will be used in message passing, where we have the flexibility to distinguish the features of source (src) vs. destination (dst) nodes (e.g. with different transformations). Common notation is to think of the src node features as the node features used for sending messages and dst node features as the central node features that will be receiving these messages. Note, while in this notebook the src and dst matrices will be the same shape - $[N, d]$ (i.e. coming from the same set of nodes), we will see later in the course cases where these nodes can differ.\n",
        "\n",
        "  - `extra=(extra_src, extra_dst)` represents additional information that we can associate with each node beyond its current feature embedding. In fact, we can include as many additional parameters of the form `param=(param_src, param_dst)` as we would like. We highlight that differentiating betwee `_src` and `_dst` allows us to differentiate the features used for central and neighboring node features later in the message passing process.\n",
        "\n",
        "  The output of the `propagate` function is a matrix of node embeddings after the message passing process and has shape $[N, d]$.\n",
        "\n",
        "2.\n",
        "```\n",
        "def message(x_j, ...):\n",
        "```\n",
        "The `message` function is called by `propagate` and constructs the messages from neighboring nodes (src nodes) to central nodes (dst nodes). Following PyG convention, we subscript variables dealing with src nodes with `_j` and dst nodes  with `_i`.\n",
        "\n",
        "  - `x_j` represents the matrix of node features for *each src node of each edge* in the graph. Specifically, messages are constructed along each edge $(j, i) \\in E$, where edge_index is used extract node feature information to construct `x_j` as `x_j = x_src[edge_index[0, :], :]`. Thus, `x_j` has shape $[|E|, d]$!\n",
        "\n",
        "  - `...` represent any additional arguments passed to `propagate`, from which we can differentiate between src and dst node types by appending `_i` or `_j` to the variable name. In implementing GAT you will see how you can leverage accessing additional variables passed to propagate.\n",
        "\n",
        "  Critically, we emphasize that the output of the `message` function is a matrix of messages ready to be aggregated, having shape $[|E|, d]$, where these messages are constructed by applying different potential transformations to the initial src node embedding messages.\n",
        "\n",
        "  **Note** Understanding the message passing process is definitely a confusing concept; however, it is very helpful to think of the `message` function acting on each individual edges in the graph (i.e. producing a message for each directed edge $(j, i)$). Moreover, for undirected graphs since we store both directions of each edge, each node $u$ acts both as a src and dst node, sending messages to its neighbors and then also aggregating messages from its same set of neighbors.\n",
        "\n",
        "\n",
        "3.\n",
        "```\n",
        "def aggregate(self, inputs, index, dim_size = None):\n",
        "```\n",
        "Lastly, the `aggregate` function is used to aggregate the messages from neighboring nodes. Looking at the parameters, we highlight:\n",
        "\n",
        "  - `inputs` represents a matrix of the messages passed from neighboring nodes (i.e. the output of the `message` function).\n",
        "  - `index` is an array with length equal to the number of rows of `inputs` and tells us the central node $i$ associated with each message (row) in the `inputs` matrix. Thus, `index` tells us which rows / messages to aggregate for each central node $i$ - i.e. all messages with associated edges $(*, i) \\in E$.\n",
        "\n",
        "  The output of `aggregate` is of shape $[N, d]$.\n",
        "\n",
        "\n",
        "For additional resources refer to the PyG documentation for implementing custom message passing layers: https://pytorch-geometric.readthedocs.io/en/latest/notes/create_gnn.html"
      ]
    },
    {
      "cell_type": "markdown",
      "metadata": {
        "id": "syDtxjxoCZgq"
      },
      "source": [
        "## GraphSage Implementation\n",
        "\n",
        "For our first GNN layer, you will implement the well known GraphSage ([Hamilton et al. (2017)](https://arxiv.org/abs/1706.02216)) layer!\n",
        "\n",
        "For a given *central* node $v$ with current embedding $h_v^{l-1}$, the message passing update rule to tranform $h_v^{l-1} \\rightarrow h_v^l$ is as follows:\n",
        "\n",
        "\\begin{equation}\n",
        "h_v^{(l)} = W_{dst}\\cdot h_v^{(l-1)} + W_{src} \\cdot AGG(\\{h_u^{(l-1)}, \\forall u \\in N(v) \\})\n",
        "\\end{equation}\n",
        "\n",
        "where $W_{src}$ and $W_{dst}$ are learnable weight matrices and the nodes $u$ are *neighboring* nodes. Additionally, you will use mean aggregation:\n",
        "\n",
        "\\begin{equation}\n",
        "AGG(\\{h_u^{(l-1)}, \\forall u \\in N(v) \\}) = \\frac{1}{|N(v)|} \\sum_{u\\in N(v)} h_u^{(l-1)}\n",
        "\\end{equation}\n",
        "\n",
        "One thing to note is that we have added a **skip connection** to your GraphSage implementation through the term $W_{dst}\\cdot h_v^{(l-1)}$.\n",
        "\n",
        "Before implementing this update rule, we encourage you to think about how different parts of the GraphSage formulas correspond with the functions outlined earlier: 1) `forward`, 2) `message`, and 3) `aggregate`. As a hint, you are given what the aggregation function is (i.e. mean aggregation)! Now the question remains, what are the messages passed by each neighbor nodes and when do we call the `propagate` function?\n",
        "\n",
        "Note: in this case the message function or messages are actually quite simple. Additionally, remember that the `propagate` function encapsulates the operations of / the outputs of the combined `message` and `aggregate` functions.\n",
        "\n",
        "\n",
        "Lastly, $\\ell$-2 normalization of the node embeddings is applied after each iteration.\n",
        "\n",
        "\n",
        "<font color='red'>For the following questions, DON'T refer to any existing implementations online.</font>"
      ]
    },
    {
      "cell_type": "code",
      "execution_count": 5,
      "metadata": {
        "id": "RwG4HqCFCaOD"
      },
      "outputs": [],
      "source": [
        "class GraphSage(MessagePassing):\n",
        "\n",
        "    def __init__(self, in_channels, out_channels, args, **kwargs):\n",
        "        super(GraphSage, self).__init__(**kwargs)\n",
        "\n",
        "        self.in_channels = in_channels\n",
        "        self.out_channels = out_channels\n",
        "        self.normalize = args.normalize\n",
        "        bias = args.bias\n",
        "        self.lin_src = nn.Linear(in_features=in_channels, out_features=out_channels)\n",
        "        self.lin_dst = nn.Linear(in_features=in_channels, out_features=out_channels)\n",
        "\n",
        "        self.reset_parameters()\n",
        "\n",
        "    def reset_parameters(self):\n",
        "        self.lin_src.reset_parameters()\n",
        "        self.lin_dst.reset_parameters()\n",
        "\n",
        "    def forward(self, x, edge_index, size = None):\n",
        "        \"\"\"\"\"\"\n",
        "\n",
        "        out = None\n",
        "        ############# Your code here #############\n",
        "        # Implement message passing, as well as any post-processing (our update rule).\n",
        "        # 1. Call the propagate function to conduct message passing.\n",
        "        #    1.1 See the description of propagate above or the following link for more information:\n",
        "        #        https://pytorch-geometric.readthedocs.io/en/latest/notes/create_gnn.html\n",
        "        #    1.2 You will only use the representation for neighbor nodes (x_j) in message passing.\n",
        "        #        Thus, you can simply pass the same representation for src / dst as x=(x, x).\n",
        "        #        Although we give this to you, try thinking through what this means following\n",
        "        #        the descriptions above.\n",
        "        # 2. Update your node embeddings with a skip connection.\n",
        "        # 3. If normalize is set, do L-2 normalization (defined in\n",
        "        #    torch.nn.functional)\n",
        "        #\n",
        "        # Our implementation is ~5 lines, but don't worry if you deviate from this.\n",
        "        pass\n",
        "        ############################################################################\n",
        "        out = self.propagate(edge_index=edge_index, x=(x, x), size=size)\n",
        "        out = self.lin_src(x) + self.lin_dst(out)\n",
        "        if self.normalize:\n",
        "            out = F.normalize(out, p=2)\n",
        "\n",
        "        return out\n",
        "\n",
        "    def message(self, x_j):\n",
        "\n",
        "        out = None\n",
        "\n",
        "        ############# Your code here #############\n",
        "        # Implement your message function here.\n",
        "        # Hint: Look at the formulation of the mean aggregation function, focusing on\n",
        "        # what message each individual neighboring node passes during aggregation.\n",
        "        #\n",
        "        # Our implementation is ~1 lines, but don't worry if you deviate from this.\n",
        "        pass\n",
        "        ############################################################################\n",
        "        out = x_j\n",
        "        return out\n",
        "\n",
        "    def aggregate(self, inputs, index, dim_size = None):\n",
        "\n",
        "        out = None\n",
        "        # The axis along which to index number of nodes.\n",
        "        node_dim = self.node_dim\n",
        "        ############# Your code here #############\n",
        "        # Implement your aggregate function here.\n",
        "        # See here as how to use torch_scatter.scatter:\n",
        "        # https://pytorch-scatter.readthedocs.io/en/latest/functions/scatter.html#torch_scatter.scatter\n",
        "        #\n",
        "        # Our implementation is ~1 lines, but don't worry if you deviate from this.\n",
        "        pass\n",
        "        ############################################################################\n",
        "        out = torch_scatter.scatter(inputs, index=index, dim=node_dim, dim_size=dim_size, reduce='mean')\n",
        "        return out\n"
      ]
    },
    {
      "cell_type": "markdown",
      "metadata": {
        "id": "qjcfF3RACdLD"
      },
      "source": [
        "## GAT Implementation\n",
        "\n",
        "Attention mechanisms have become the state-of-the-art in many sequence-based tasks such as machine translation and learning sentence representations. One of the major benefits of attention-based mechanisms is their ability to focus on the most relevant parts of the input to make decisions. In this problem, you will learn how attention mechanisms can be used to perform node classification over graph-structured data through the usage of Graph Attention Networks (GATs) ([Veličković et al. (2018)](https://arxiv.org/abs/1710.10903)).\n",
        "\n",
        "The building block of the Graph Attention Network is the graph attention layer, which is a variant of the aggregation function. Like before, a graph attention layer $l$ transforms the set of node features $\\mathbf{h^{l-1}} = \\{h_1^{l-1}, h_2^{l-1}, \\dots, h_N^{l-1}$\\}, $h_i^{l-1} \\in R^F$ $\\rightarrow$ $\\mathbf{h^{l}} = \\{h_1^{l}, h_2^{l}, \\dots, h_N^{l}$\\}, $h_i^{l} \\in R^{F'}$.\n",
        "\n",
        "Now let's see how this transformation is performed for each graph attention layer. First, a shared linear transformation parameterized by the weight matrix $\\mathbf{W} \\in \\mathbb{R}^{F' \\times F}$ is applied to every node.\n",
        "\n",
        "Next, we perform self-attention on the nodes using a shared attention function $a$:\n",
        "\\begin{equation}\n",
        "a : \\mathbb{R}^{F'} \\times \\mathbb{R}^{F'} \\rightarrow \\mathbb{R}\n",
        "\\end{equation}\n",
        "\n",
        "that computes the attention coefficients, capturing the importance of node $j$'s features to node $i$:\n",
        "\\begin{equation}\n",
        "e_{ij} = a(\\mathbf{W_{dst}}\\overrightarrow{h_i}, \\mathbf{W_{src}} \\overrightarrow{h_j})\n",
        "\\end{equation}\n",
        "\n",
        "The most general formulation of self-attention allows every node to attend to all other nodes, which drops all structural information. However, to utilize the graph structure in the attention mechanisms, we use **masked attention**. In masked attention, we only compute attention coefficients $e_{ij}$ for nodes $j \\in \\mathcal{N}_i$ where $\\mathcal{N}_i$ is the set of neighbors for node $i$ in the graph. Namely, we only compute attention along the edges of the graph.\n",
        "\n",
        "To easily compare coefficients across nodes, we normalize the coefficients across a node $i$'s neighbors $j$ using the softmax function:\n",
        "\\begin{equation}\n",
        "\\alpha_{ij} = \\text{softmax}_j(e_{ij}) = \\frac{\\exp(e_{ij})}{\\sum_{k \\in \\mathcal{N}_i} \\exp(e_{ik})}\n",
        "\\end{equation}\n",
        "\n",
        "For this problem, our attention mechanism $a$ will be a single-layer feedforward neural network parametrized by weight vectors $\\overrightarrow{a_{src}} \\in \\mathbb{R}^{F'}$ and $\\overrightarrow{a_{dst}} \\in \\mathbb{R}^{F'}$, followed by a LeakyReLU nonlinearity (with negative input slope 0.2). Letting $\\cdot^T$ represent transposition, the coefficients computed by our attention mechanism may be expressed as:\n",
        "\n",
        "\\begin{equation}\n",
        "\\alpha_{ij} = \\frac{\\exp\\Big(\\text{LeakyReLU}\\Big(\\overrightarrow{a_{dst}}^T \\mathbf{W_{dst}} \\overrightarrow{h_i} + \\overrightarrow{a_{src}}^T\\mathbf{W_{src}}\\overrightarrow{h_j}\\Big)\\Big)}{\\sum_{k\\in \\mathcal{N}_i} \\exp\\Big(\\text{LeakyReLU}\\Big(\\overrightarrow{a_{dst}}^T \\mathbf{W_{dst}} \\overrightarrow{h_i} + \\overrightarrow{a_{src}}^T\\mathbf{W_{src}}\\overrightarrow{h_k}\\Big)\\Big)}\n",
        "\\end{equation}\n",
        "\n",
        "For the following questions, we denote `alpha_{src}` = $\\alpha_{src} = [...,\\overrightarrow{a_{src}}^T \\mathbf{W_{src}} \\overrightarrow{h_j},...] \\in \\mathcal{R}^n$ and `alpha_{dst}` = $\\alpha_{dst} = [..., \\overrightarrow{a_{dst}}^T \\mathbf{W_{dst}} \\overrightarrow{h_i}, ...] \\in \\mathcal{R}^n$, where again $n$ is the number of nodes in the graph.\n",
        "\n",
        "\n",
        "For every GAT layer, after the attention coefficients are computed, the aggregation function for a node $i$ is computed as a weighted sum over the messages from neighboring nodes $j$ **weighted by the attention weights** $\\alpha_{ij}$. These aggregated features will serve as the final output features for every node.\n",
        "\n",
        "\\begin{equation}\n",
        "h_i' = \\sum_{j \\in \\mathcal{N}_i} \\alpha_{ij} \\mathbf{W_{src}} \\overrightarrow{h_j}.\n",
        "\\end{equation}\n",
        "\n",
        "At this point, we have covered a lot of information! Before reading further about multi-head attention, we encourage you to go again through the exercise of thinking about what components of the attention mechanism correspond with the different functions: 1) `forward`, 2) `message`, and 3 `aggregate`.\n",
        "\n",
        "- Hint 1: in the `forward` method, the subsript `_src` refers to resources used on source/neighbor nodes, whereas subsript `_dst` refers to resources used on destination/target/central nodes\n",
        "- Hint 2: Our aggregation is very similar to that of GraphSage except now we are using sum aggregation.\n",
        "- Hint 3: The terms we aggregate over represent the individual message that each neighbor node j sends. Thus, we see that $\\alpha_{ij}$ is actually part of the message each node sends and should be computed during the message step. This makes sense since each attention weight is associated with a single edge in the graph.\n",
        "- Hint 4: Look at the terms in the definition of $\\alpha_{ij}$. What values can you pre-process and pass as parameters to the `propagate` function (i.e. those computed only over the nodes *that do not* require edge information). The parameters of `message(..., x_j, alpha_j, alpha_i, ...)` should give a good hint.  \n",
        "- Hint 5: Remember that parameters accessed in the `message` function are extracted from parameters passed to propagate using `edge_index`; thus, their first dimension has shape $|E|$.\n",
        "\n",
        "### Multi-Head Attention\n",
        "To stabilize the learning process of self-attention, you will use multi-head attention. To do this you use $K$ **independent** attention mechanisms, or ``heads'', to compute output features exactly as described in the above equations. Then, you simply concatenate these output feature representations:\n",
        "\n",
        "\\begin{equation}\n",
        "    \\overrightarrow{h_i}' = ||_{k=1}^K \\Big(\\sum_{j \\in \\mathcal{N}_i} \\alpha_{ij}^{(k)} \\mathbf{W_{src}}^{(k)} \\overrightarrow{h_j}\\Big)\n",
        "\\end{equation}\n",
        "\n",
        "where $||$ is concatenation, $\\alpha_{ij}^{(k)}$ are the normalized attention coefficients computed by the $k$-th attention mechanism $(a^k)$, and $\\mathbf{W_{src}}^{(k)}$ is the corresponding input linear transformation's weight matrix. Note that for this setting, $\\mathbf{h'} \\in \\mathbb{R}^{KF'}$.\n",
        "\n",
        "**Note:** We recommend first thinking through the implementation of single head attention. Switching to multi-head attention then requires thinking through adding an extra dimension $K$ to effectively compute $K$ separate single head attention outputs."
      ]
    },
    {
      "cell_type": "code",
      "execution_count": 6,
      "metadata": {
        "id": "w4j45gTpCeXO"
      },
      "outputs": [],
      "source": [
        "class GAT(MessagePassing):\n",
        "\n",
        "    def __init__(self, in_channels, out_channels, args, **kwargs):\n",
        "        super(GAT, self).__init__(node_dim=0, **kwargs)\n",
        "\n",
        "        self.in_channels = in_channels\n",
        "        self.out_channels = out_channels\n",
        "        self.heads = args.heads\n",
        "        self.negative_slope = args.negative_slope\n",
        "        self.dropout = args.dropout\n",
        "        bias = args.bias\n",
        "\n",
        "        self.lin_src = nn.Linear(in_features=in_channels, out_features=out_channels * self.heads)\n",
        "        self.lin_dst = nn.Linear(in_features=in_channels, out_features=out_channels * self.heads)\n",
        "        self.att_src = nn.Parameter(data=torch.zeros(self.heads, out_channels))\n",
        "        self.att_dst = nn.Parameter(data=torch.zeros(self.heads, out_channels))\n",
        "\n",
        "        ############# Your code here #############\n",
        "        # Define the layers needed for the message functions below.\n",
        "        # self.lin_src is the linear transformation that you apply to embeddings\n",
        "        # BEFORE message passing.\n",
        "        #\n",
        "        # Pay attention to dimensions of the linear layers, especially when\n",
        "        # implementing multi-head attention.\n",
        "        # Our implementation is ~1 lines, but don't worry if you deviate from this.\n",
        "        pass\n",
        "        ############################################################################\n",
        "\n",
        "        self.lin_dst = self.lin_src\n",
        "\n",
        "        ############# Your code here #############\n",
        "        # Define the attention parameters \\overrightarrow{a_{src}/{dst}}^T in the above intro.\n",
        "        # 1. Be mindful of when you want to include multi-head attention.\n",
        "        # 2. Note that for each attention head we parametrize the attention parameters\n",
        "        #    as weight vectors NOT matrices - i.e. their first dimension should be 1.\n",
        "        # 3. Use nn.Parameter instead of nn.Linear\n",
        "        # Our implementation is ~2 lines, but don't worry if you deviate from this.\n",
        "        pass\n",
        "        ############################################################################\n",
        "\n",
        "        self.reset_parameters()\n",
        "\n",
        "    def reset_parameters(self):\n",
        "        nn.init.xavier_uniform_(self.lin_src.weight)\n",
        "        nn.init.xavier_uniform_(self.lin_dst.weight)\n",
        "        nn.init.xavier_uniform_(self.att_src)\n",
        "        nn.init.xavier_uniform_(self.att_dst)\n",
        "\n",
        "    def forward(self, x, edge_index, size = None):\n",
        "\n",
        "        H, C = self.heads, self.out_channels\n",
        "\n",
        "        ############# Your code here #############\n",
        "        # Implement message passing, as well as any pre- and post-processing (our update rule).\n",
        "        # 1. First apply linear transformation to node embeddings, and split that\n",
        "        #    into multiple heads. We use the same representations for source and\n",
        "        #    target nodes, but apply different linear weights (W_{src} and W_{dst})\n",
        "        # 2. Calculate alpha vectors for central nodes (alpha_{dst}) and neighbor nodes (alpha_{src}).\n",
        "        # 3. Call propagate function to conduct the message passing.\n",
        "        #    3.1 Remember to pass alpha = (alpha_{src}, alpha_{dst}) as a parameter.\n",
        "        #    3.2 See here for more information: https://pytorch-geometric.readthedocs.io/en/latest/notes/create_gnn.html\n",
        "        # 4. Transform the output back to the shape of N * d.\n",
        "        # Our implementation is ~5 lines, but don't worry if you deviate from this.\n",
        "        pass\n",
        "        ############################################################################\n",
        "        x_src = self.lin_src(x).reshape(-1, H, C)\n",
        "        x_dst = self.lin_dst(x).reshape(-1, H, C)\n",
        "        # alpha vectors\n",
        "        alpha_src = self.att_src * x_src\n",
        "        alpha_dst = self.att_dst * x_dst\n",
        "\n",
        "        out = self.propagate(edge_index=edge_index, x=(x_src, x_dst), alpha=(alpha_src, alpha_dst), size=size).reshape(-1, H * C)\n",
        "\n",
        "        return out\n",
        "\n",
        "\n",
        "    def message(self, x_j, alpha_j, alpha_i, index, ptr, size_i):\n",
        "\n",
        "        ############# Your code here #############\n",
        "        # Implement your message function. Putting the attention in message\n",
        "        # instead of in update is a little tricky.\n",
        "        # 1. Calculate the attention weights using alpha_i and alpha_j,\n",
        "        #    and apply leaky ReLU.\n",
        "        # 2. Calculate softmax over the neighbor nodes for all the nodes. Use\n",
        "        #    torch_geometric.utils.softmax instead of the one in Pytorch.\n",
        "        # 3. Apply dropout to attention weights (alpha).\n",
        "        # 4. Multiply embeddings and attention weights. As a sanity check, the output\n",
        "        #    should be of shape (E, H, d).\n",
        "        # 5. ptr (LongTensor, optional): If given, computes the softmax based on\n",
        "        #    sorted inputs in CSR representation. You can simply pass it to softmax.\n",
        "        # Our implementation is ~5 lines, but don't worry if you deviate from this.\n",
        "        pass\n",
        "        ############################################################################\n",
        "        alpha = F.leaky_relu(alpha_i + alpha_j, negative_slope=self.negative_slope)\n",
        "        # compute the attention weights by applying softmax to every group of nodes,\n",
        "        #  using one of the (index, ptr) parameters\n",
        "        if ptr:\n",
        "            att_weight = softmax(alpha, ptr)\n",
        "        else:\n",
        "            att_weight = softmax(alpha, index)\n",
        "        att_weight = F.dropout(att_weight, p=self.dropout)\n",
        "        # out.shape == [num_edges, num_heads, hidden_size]\n",
        "        out = att_weight * x_j\n",
        "        return out\n",
        "\n",
        "\n",
        "    def aggregate(self, inputs, index, dim_size = None):\n",
        "\n",
        "        ############# Your code here #############\n",
        "        # Implement your aggregate function here.\n",
        "        # See here as how to use torch_scatter.scatter: https://pytorch-scatter.readthedocs.io/en/latest/_modules/torch_scatter/scatter.html\n",
        "        # Pay attention to \"reduce\" parameter is different from that in GraphSage.\n",
        "        # Our implementation is ~1 lines, but don't worry if you deviate from this.\n",
        "        pass\n",
        "        ############################################################################\n",
        "        out = torch_scatter.scatter(inputs, index=index, dim=self.node_dim, dim_size=dim_size, reduce='sum')\n",
        "        return out"
      ]
    },
    {
      "cell_type": "markdown",
      "metadata": {
        "id": "V2dkgSuWCheU"
      },
      "source": [
        "## Building Optimizers\n",
        "\n",
        "This function has been implemented for you. **For grading purposes please use the default Adam optimizer**, but feel free to play with other types of optimizers on your own."
      ]
    },
    {
      "cell_type": "code",
      "execution_count": 7,
      "metadata": {
        "id": "f_TIQ8NPCjBP"
      },
      "outputs": [],
      "source": [
        "import torch.optim as optim\n",
        "\n",
        "def build_optimizer(args, params):\n",
        "    weight_decay = args.weight_decay\n",
        "    filter_fn = filter(lambda p : p.requires_grad, params)\n",
        "    if args.opt == 'adam':\n",
        "        optimizer = optim.Adam(filter_fn, lr=args.lr, weight_decay=weight_decay)\n",
        "    elif args.opt == 'sgd':\n",
        "        optimizer = optim.SGD(filter_fn, lr=args.lr, momentum=0.95, weight_decay=weight_decay)\n",
        "    elif args.opt == 'rmsprop':\n",
        "        optimizer = optim.RMSprop(filter_fn, lr=args.lr, weight_decay=weight_decay)\n",
        "    elif args.opt == 'adagrad':\n",
        "        optimizer = optim.Adagrad(filter_fn, lr=args.lr, weight_decay=weight_decay)\n",
        "    if args.opt_scheduler == 'none':\n",
        "        return None, optimizer\n",
        "    elif args.opt_scheduler == 'step':\n",
        "        scheduler = optim.lr_scheduler.StepLR(optimizer, step_size=args.opt_decay_step, gamma=args.opt_decay_rate)\n",
        "    elif args.opt_scheduler == 'cos':\n",
        "        scheduler = optim.lr_scheduler.CosineAnnealingLR(optimizer, T_max=args.opt_restart)\n",
        "    return scheduler, optimizer"
      ]
    },
    {
      "cell_type": "markdown",
      "metadata": {
        "id": "hBYdWFwYCkwY"
      },
      "source": [
        "## Training and Testing\n",
        "\n",
        "Here we provide you with the functions to train and test. **Please do not modify this part for grading purposes.**"
      ]
    },
    {
      "cell_type": "code",
      "execution_count": 8,
      "metadata": {
        "id": "_tZMWRc8CmGg"
      },
      "outputs": [],
      "source": [
        "import time\n",
        "\n",
        "import networkx as nx\n",
        "import numpy as np\n",
        "import torch\n",
        "import torch.optim as optim\n",
        "from tqdm import trange\n",
        "import pandas as pd\n",
        "import copy\n",
        "\n",
        "from torch_geometric.datasets import TUDataset\n",
        "from torch_geometric.datasets import Planetoid\n",
        "from torch_geometric.data import DataLoader\n",
        "\n",
        "import torch_geometric.nn as pyg_nn\n",
        "\n",
        "import matplotlib.pyplot as plt\n",
        "\n",
        "\n",
        "def train(dataset, args):\n",
        "\n",
        "    print(\"Node task. test set size:\", np.sum(dataset[0]['test_mask'].numpy()))\n",
        "    print()\n",
        "    test_loader = loader = DataLoader(dataset, batch_size=args.batch_size, shuffle=False)\n",
        "\n",
        "    # build model\n",
        "    model = GNNStack(dataset.num_node_features, args.hidden_dim, dataset.num_classes, args)\n",
        "\n",
        "    # Disable compile as this does not seem to work yet in PyTorch 2.0.1/PyG 2.3.1\n",
        "    # try:\n",
        "    #   model = torch_geometric.compile(model)\n",
        "    #   print(f\"GNNStack based on {args.model_type} Model compiled\")\n",
        "    # except Exception as err:\n",
        "    #   print(f\"Model compile not supported: {err}\")\n",
        "\n",
        "    scheduler, opt = build_optimizer(args, model.parameters())\n",
        "\n",
        "    # train\n",
        "    losses = []\n",
        "    test_accs = []\n",
        "    best_acc = 0\n",
        "    best_model = None\n",
        "    for epoch in trange(args.epochs, desc=\"Training\", unit=\"Epochs\"):\n",
        "        total_loss = 0\n",
        "        model.train()\n",
        "        for batch in loader:\n",
        "            opt.zero_grad()\n",
        "            pred = model(batch)\n",
        "            label = batch.y\n",
        "            pred = pred[batch.train_mask]\n",
        "            label = label[batch.train_mask]\n",
        "            loss = model.loss(pred, label)\n",
        "            loss.backward()\n",
        "            opt.step()\n",
        "            total_loss += loss.item() * batch.num_graphs\n",
        "        total_loss /= len(loader.dataset)\n",
        "        losses.append(total_loss)\n",
        "\n",
        "        if epoch % 10 == 0:\n",
        "          test_acc = test(test_loader, model)\n",
        "          test_accs.append(test_acc)\n",
        "          if test_acc > best_acc:\n",
        "            best_acc = test_acc\n",
        "            best_model = copy.deepcopy(model)\n",
        "        else:\n",
        "          test_accs.append(test_accs[-1])\n",
        "\n",
        "    return test_accs, losses, best_model, best_acc, test_loader\n",
        "\n",
        "def test(loader, test_model, is_validation=False, save_model_preds=False, model_type=None):\n",
        "    test_model.eval()\n",
        "\n",
        "    correct = 0\n",
        "    # Note that Cora is only one graph!\n",
        "    for data in loader:\n",
        "        with torch.no_grad():\n",
        "            # max(dim=1) returns values, indices tuple; only need indices\n",
        "            pred = test_model(data).max(dim=1)[1]\n",
        "            label = data.y\n",
        "\n",
        "        mask = data.val_mask if is_validation else data.test_mask\n",
        "        # node classification: only evaluate on nodes in test set\n",
        "        pred = pred[mask]\n",
        "        label = label[mask]\n",
        "\n",
        "        if save_model_preds:\n",
        "          print (\"Saving Model Predictions for Model Type\", model_type)\n",
        "\n",
        "          data = {}\n",
        "          data['pred'] = pred.view(-1).cpu().detach().numpy()\n",
        "          data['label'] = label.view(-1).cpu().detach().numpy()\n",
        "\n",
        "          df = pd.DataFrame(data=data)\n",
        "          # Save locally as csv\n",
        "          df.to_csv('CORA-Node-' + model_type + '.csv', sep=',', index=False)\n",
        "\n",
        "        correct += pred.eq(label).sum().item()\n",
        "\n",
        "    total = 0\n",
        "    for data in loader.dataset:\n",
        "        total += torch.sum(data.val_mask if is_validation else data.test_mask).item()\n",
        "\n",
        "    return correct / total\n",
        "\n",
        "def train_wrapper(args):\n",
        "\n",
        "    args = objectview(args)\n",
        "\n",
        "    if args.dataset == 'cora':\n",
        "        dataset = Planetoid(root='/tmp/cora', name='Cora')\n",
        "    else:\n",
        "        raise NotImplementedError(\"Unknown dataset\")\n",
        "    test_accs, losses, best_model, best_acc, test_loader = train(dataset, args)\n",
        "\n",
        "    print(\"Maximum test set accuracy: {0}\".format(max(test_accs)))\n",
        "    print(\"Minimum loss: {0}\".format(min(losses)))\n",
        "\n",
        "    # Run test for our best model to save the predictions!\n",
        "    test(test_loader, best_model, is_validation=False, save_model_preds=True, model_type=args.model_type)\n",
        "    print()\n",
        "\n",
        "    out = {\n",
        "        \"model_type\": args.model_type,\n",
        "        \"dataset_name\": dataset.name,\n",
        "        \"losses\": losses,\n",
        "        \"test_accuracies\": test_accs\n",
        "    }\n",
        "\n",
        "    return objectview(out)\n",
        "\n",
        "class objectview(object):\n",
        "    def __init__(self, d):\n",
        "        self.__dict__ = d\n"
      ]
    },
    {
      "cell_type": "markdown",
      "metadata": {
        "id": "L7-h7jIsCns4"
      },
      "source": [
        "## Let's Start the Training!\n",
        "\n",
        "You will be working on the CORA dataset on node-level classification.\n",
        "\n",
        "This part is implemented for you. **For grading purposes, please do not modify the default parameters.** However, feel free to play with different configurations just for fun!\n",
        "\n",
        "**Submit your best accuracy and loss on Gradescope.**"
      ]
    },
    {
      "cell_type": "code",
      "execution_count": 9,
      "metadata": {
        "colab": {
          "base_uri": "https://localhost:8080/"
        },
        "id": "MRCr4iGfJLKT",
        "outputId": "735727e2-5283-47a9-f5ca-2d315f41bd08"
      },
      "outputs": [
        {
          "output_type": "stream",
          "name": "stderr",
          "text": [
            "/usr/local/lib/python3.10/dist-packages/torch_geometric/deprecation.py:26: UserWarning: 'data.DataLoader' is deprecated, use 'loader.DataLoader' instead\n",
            "  warnings.warn(out)\n"
          ]
        },
        {
          "output_type": "stream",
          "name": "stdout",
          "text": [
            "Node task. test set size: 1000\n",
            "\n"
          ]
        },
        {
          "output_type": "stream",
          "name": "stderr",
          "text": [
            "Training: 100%|██████████| 500/500 [01:07<00:00,  7.44Epochs/s]\n"
          ]
        },
        {
          "output_type": "stream",
          "name": "stdout",
          "text": [
            "Maximum test set accuracy: 0.803\n",
            "Minimum loss: 0.16133438050746918\n",
            "Saving Model Predictions for Model Type GraphSage\n",
            "\n"
          ]
        }
      ],
      "source": [
        "if 'IS_GRADESCOPE_ENV' not in os.environ:\n",
        "    args = {\n",
        "        'model_type': 'GraphSage',\n",
        "        'dataset': 'cora',\n",
        "        'num_layers': 2,\n",
        "        'normalize': True,\n",
        "        'bias': False,\n",
        "        'heads': 1,\n",
        "        'negative_slope': 0.2,\n",
        "        'batch_size': 32,\n",
        "        'hidden_dim': 32,\n",
        "        'dropout': 0.5,\n",
        "        'epochs': 500,\n",
        "        'opt': 'adam',\n",
        "        'opt_scheduler': 'none',\n",
        "        'opt_restart': 0,\n",
        "        'weight_decay': 5e-3,\n",
        "        'lr': 0.01\n",
        "    }\n",
        "\n",
        "    graph_sage_plot_data = train_wrapper(args)"
      ]
    },
    {
      "cell_type": "code",
      "execution_count": 10,
      "metadata": {
        "colab": {
          "base_uri": "https://localhost:8080/"
        },
        "id": "OLPgtZ7cJLKU",
        "outputId": "71a4e454-6bb0-472b-e058-ca0b7d18bd23"
      },
      "outputs": [
        {
          "output_type": "stream",
          "name": "stdout",
          "text": [
            "Node task. test set size: 1000\n",
            "\n"
          ]
        },
        {
          "output_type": "stream",
          "name": "stderr",
          "text": [
            "Training: 100%|██████████| 500/500 [00:57<00:00,  8.66Epochs/s]"
          ]
        },
        {
          "output_type": "stream",
          "name": "stdout",
          "text": [
            "Maximum test set accuracy: 0.764\n",
            "Minimum loss: 0.12800832092761993\n",
            "Saving Model Predictions for Model Type GAT\n",
            "\n"
          ]
        },
        {
          "output_type": "stream",
          "name": "stderr",
          "text": [
            "\n"
          ]
        }
      ],
      "source": [
        "if 'IS_GRADESCOPE_ENV' not in os.environ:\n",
        "    args = {\n",
        "        'model_type': 'GAT',\n",
        "        'dataset': 'cora',\n",
        "        'num_layers': 2,\n",
        "        'normalize': True,\n",
        "        'bias': False,\n",
        "        'heads': 2,\n",
        "        'negative_slope': 0.2,\n",
        "        'batch_size': 32,\n",
        "        'hidden_dim': 32,\n",
        "        'dropout': 0.5,\n",
        "        'epochs': 500,\n",
        "        'opt': 'adam',\n",
        "        'opt_scheduler': 'none',\n",
        "        'opt_restart': 0,\n",
        "        'weight_decay': 5e-3,\n",
        "        'lr': 0.01\n",
        "    }\n",
        "\n",
        "    gat_plot_data = train_wrapper(args)"
      ]
    },
    {
      "cell_type": "code",
      "execution_count": 11,
      "metadata": {
        "colab": {
          "base_uri": "https://localhost:8080/",
          "height": 452
        },
        "id": "zGMDAEZ8JLKV",
        "outputId": "8a4f017f-5501-4781-a92f-d95e01ac9c92"
      },
      "outputs": [
        {
          "output_type": "display_data",
          "data": {
            "text/plain": [
              "<Figure size 640x480 with 1 Axes>"
            ],
            "image/png": "[encoded data removed]"
          },
          "metadata": {}
        }
      ],
      "source": [
        "if 'IS_GRADESCOPE_ENV' not in os.environ:\n",
        "\n",
        "    # GraphSage plot\n",
        "    if 'graph_sage_plot_data' in locals():\n",
        "        plt.title(graph_sage_plot_data.dataset_name)\n",
        "        plt.plot(graph_sage_plot_data.losses, label=\"training loss\" + \" - \" + graph_sage_plot_data.model_type)\n",
        "        plt.plot(graph_sage_plot_data.test_accuracies, label=\"test accuracy\" + \" - \" + graph_sage_plot_data.model_type)\n",
        "\n",
        "    # GAT plot\n",
        "    if 'gat_plot_data' in locals():\n",
        "        plt.title(gat_plot_data.dataset_name)\n",
        "        plt.plot(gat_plot_data.losses, label=\"training loss\" + \" - \" + gat_plot_data.model_type)\n",
        "        plt.plot(gat_plot_data.test_accuracies, label=\"test accuracy\" + \" - \" + gat_plot_data.model_type)\n",
        "\n",
        "    plt.legend()\n",
        "    plt.show()"
      ]
    },
    {
      "cell_type": "markdown",
      "metadata": {
        "id": "gHELqjARZ1W5"
      },
      "source": [
        "## Question 1.1: What is the maximum accuracy obtained on the test set for GraphSage? (20 points)\n",
        "\n",
        "Running the cell above will show the results of your best model and save your best model's predictions to a file named *CORA-Node-GraphSage.csv*.  \n",
        "\n",
        "As you have seen before you can view this file by clicking on the *Folder* icon on the left side pannel. When you sumbit your assignment, you will have to download this file and attatch it to your submission."
      ]
    },
    {
      "cell_type": "markdown",
      "metadata": {
        "id": "PlCtBEBLMBkR"
      },
      "source": [
        "## Question 1.2: What is the maximum accuracy obtained on test set for GAT? (20 points)\n",
        "\n",
        "\n",
        "Running the training cell above will also save your best GAT model predictions as *CORA-Node-GAT.csv*.  \n",
        "\n",
        "When you sumbit your assignment, you will have to download this file and attatch it to your submission.\n"
      ]
    },
    {
      "cell_type": "markdown",
      "metadata": {
        "id": "Nwwq0nSdmsOL"
      },
      "source": [
        "# 2) DeepSNAP Basics\n",
        "\n",
        "In previous Colabs, you have seen graph class (NetworkX) and tensor (PyG) representations of graphs. The graph class `nx.Graph` provides rich analysis and manipulation functionalities, such as computing the clustering coefficient and PageRank vector for a graph. When working with PyG you were then introduced to tensor based representation of graphs (i.e. edge tensor `edge_index` and node attributes tensors `x` and `y`).\n",
        "\n",
        "In this section, we present DeepSNAP, a package that combines the benefits of both graph representations and offers a full pipeline for GNN training / validation / and testing. Namely, DeepSNAP includes a graph class representation to allow for more efficient graph manipulation and analysis in addition to a tensor based representation for efficient message passing computation.\n",
        "\n"
      ]
    },
    {
      "cell_type": "markdown",
      "metadata": {
        "id": "Sf7vUmdNKCjA"
      },
      "source": [
        "In general, [DeepSNAP](https://github.com/snap-stanford/deepsnap) is a Python library to assist efficient deep learning on graphs. DeepSNAP enables flexible graph manipulation, standard graph learning pipelines, heterogeneous graphs, and overall represents a simple graph learning API. In more detail:\n",
        "\n",
        "1. DeepSNAP allows for sophisticated graph manipulations, such as feature computation, pretraining, subgraph extraction etc. during/before training.\n",
        "2. DeepSNAP standardizes the pipelines for node, edge, and graph-level prediction tasks under inductive or transductive settings. Specifically, DeepSNAP removes previous non-trivial / repetative design choices left to the user, such as how to split datasets. DeepSNAP thus greatly saves in coding efforts and enables fair model comparison.\n",
        "3. Many real-world graphs are heterogeneous in nature (i.e. include different node types or edge types). However, most packages lack complete support for heterogeneous graphs, including data storage and flexible message passing. DeepSNAP provides an efficient and flexible heterogeneous graph that supports both node and edge heterogeneity.\n",
        "\n",
        "In this next section, you will use DeepSNAP for graph manipulation and dataset splitting.\n",
        "\n",
        "[DeepSNAP](https://github.com/snap-stanford/deepsnap) is a newly released project and it is still under development. If you find any bugs or have any improvement ideas, feel free to raise issues or create pull requests on the GitHub directly :)"
      ]
    },
    {
      "cell_type": "markdown",
      "metadata": {
        "id": "20SvvngpQmmQ"
      },
      "source": [
        "## Setup"
      ]
    },
    {
      "cell_type": "code",
      "execution_count": 12,
      "metadata": {
        "id": "zfbBVFmAQlwz"
      },
      "outputs": [],
      "source": [
        "import torch\n",
        "import networkx as nx\n",
        "import matplotlib.pyplot as plt\n",
        "\n",
        "from deepsnap.graph import Graph\n",
        "from deepsnap.batch import Batch\n",
        "from deepsnap.dataset import GraphDataset\n",
        "from torch_geometric.datasets import Planetoid, TUDataset\n",
        "\n",
        "from torch.utils.data import DataLoader\n",
        "\n",
        "def visualize(G, color_map=None, seed=123):\n",
        "  if color_map is None:\n",
        "    color_map = '#c92506'\n",
        "  plt.figure(figsize=(8, 8))\n",
        "  nodes = nx.draw_networkx_nodes(G, pos=nx.spring_layout(G, seed=seed), \\\n",
        "                                 label=None, node_color=color_map, node_shape='o', node_size=150)\n",
        "  edges = nx.draw_networkx_edges(G, pos=nx.spring_layout(G, seed=seed), alpha=0.5)\n",
        "  if color_map is not None:\n",
        "    plt.scatter([],[], c='#c92506', label='Nodes with label 0', edgecolors=\"black\", s=140)\n",
        "    plt.scatter([],[], c='#fcec00', label='Nodes with label 1', edgecolors=\"black\", s=140)\n",
        "    plt.legend(prop={'size': 13}, handletextpad=0)\n",
        "  nodes.set_edgecolor('black')\n",
        "  plt.show()"
      ]
    },
    {
      "cell_type": "markdown",
      "metadata": {
        "id": "ic-o1P3r6hr2"
      },
      "source": [
        "## DeepSNAP Graph\n",
        "\n",
        "The `deepsnap.graph.Graph` class is the core class of DeepSNAP. It not only represents a graph in tensor format but also includes a graph object from a graph manipulation package.\n",
        "\n",
        "Currently DeepSNAP supports [NetworkX](https://networkx.org/) and [Snap.py](https://snap.stanford.edu/snappy/doc/index.html) as back end graph manipulation packages.\n",
        "\n",
        "In this Colab, you will focus on using NetworkX as the back end graph manipulation package."
      ]
    },
    {
      "cell_type": "markdown",
      "metadata": {
        "id": "Ispq_lIoJl_z"
      },
      "source": [
        "### NetworkX to DeepSNAP\n",
        "To begin, you will first work through converting a simple random NetworkX graph to a DeepSNAP graph."
      ]
    },
    {
      "cell_type": "code",
      "execution_count": 13,
      "metadata": {
        "colab": {
          "base_uri": "https://localhost:8080/",
          "height": 757
        },
        "id": "zT5qca3x6XpG",
        "outputId": "6708d444-1571-453d-f25b-b2f2eb363378"
      },
      "outputs": [
        {
          "output_type": "stream",
          "name": "stdout",
          "text": [
            "(0, {'node_feature': tensor([0.4466, 0.1983, 0.8857, 0.5647, 0.1707]), 'node_label': tensor(1)})\n"
          ]
        },
        {
          "output_type": "display_data",
          "data": {
            "text/plain": [
              "<Figure size 800x800 with 1 Axes>"
            ],
            "image/png": "[encoded data removed]"
          },
          "metadata": {}
        },
        {
          "output_type": "stream",
          "name": "stdout",
          "text": [
            "Graph(G=[], edge_index=[2, 524], edge_label_index=[2, 524], node_feature=[100, 5], node_label=[100], node_label_index=[100])\n",
            "Node feature (node_feature) has shape torch.Size([100, 5]) and type torch.float32\n",
            "Node label (node_label) has shape torch.Size([100]) and type torch.int64\n",
            "Edge index (edge_index) has shape torch.Size([2, 524]) and type torch.int64\n",
            "The DeepSNAP graph has <class 'networkx.classes.graph.Graph'> as the internal manupulation graph\n"
          ]
        }
      ],
      "source": [
        "if 'IS_GRADESCOPE_ENV' not in os.environ:\n",
        "  num_nodes = 100\n",
        "  p = 0.05\n",
        "  seed = 100\n",
        "\n",
        "  # Generate a networkx random graph\n",
        "  G = nx.gnp_random_graph(num_nodes, p, seed=seed)\n",
        "\n",
        "  # Generate some random node features and labels\n",
        "  node_feature = {node : torch.rand([5, ]) for node in G.nodes()}\n",
        "  node_label = {node : torch.randint(0, 2, ()) for node in G.nodes()}\n",
        "\n",
        "  # Set the random features and labels to G\n",
        "  nx.set_node_attributes(G, node_feature, name='node_feature')\n",
        "  nx.set_node_attributes(G, node_label, name='node_label')\n",
        "\n",
        "  # Print one node example\n",
        "  for node in G.nodes(data=True):\n",
        "    print(node)\n",
        "    break\n",
        "\n",
        "  color_map = ['#c92506' if node[1]['node_label'].item() == 0 else '#fcec00' for node in G.nodes(data=True)]\n",
        "\n",
        "  # Visualize the graph\n",
        "  visualize(G, color_map=color_map)\n",
        "\n",
        "  # Transform the networkx graph into the deepsnap graph\n",
        "  graph = Graph(G)\n",
        "\n",
        "  # Print out the general deepsnap graph information\n",
        "  print(graph)\n",
        "\n",
        "  # DeepSNAP will convert node attributes to tensors\n",
        "  # Notice the type of tensors\n",
        "  print(\"Node feature (node_feature) has shape {} and type {}\".format(graph.node_feature.shape, graph.node_feature.dtype))\n",
        "  print(\"Node label (node_label) has shape {} and type {}\".format(graph.node_label.shape, graph.node_label.dtype))\n",
        "\n",
        "  # DeepSNAP will also generate the edge_index tensor\n",
        "  print(\"Edge index (edge_index) has shape {} and type {}\".format(graph.edge_index.shape, graph.edge_index.dtype))\n",
        "\n",
        "  # Different from only storing tensors, deepsnap graph also references to the networkx graph\n",
        "  # We will discuss why the reference will be helpful later\n",
        "  print(\"The DeepSNAP graph has {} as the internal manupulation graph\".format(type(graph.G)))"
      ]
    },
    {
      "cell_type": "markdown",
      "metadata": {
        "id": "PNMbc307KOQD"
      },
      "source": [
        "### Tensor graph attributes\n",
        "\n",
        "Similar to the native PyG tensor based representation, DeepSNAP includes a graph tensor based representation with three levels of graph attributes. In this example, you primarily have **node level** attributes including `node_feature` and `node_label`. The other two levels of attributes are **edge** and **graph** attributes. Similar to node level attributes, these attributes are prefixed by their respective type. For example, the features become `edge_feature` or `graph_feature` and labels becomes `edge_label` or `graph_label` etc."
      ]
    },
    {
      "cell_type": "markdown",
      "metadata": {
        "id": "G8Xz58_Da0qL"
      },
      "source": [
        "### Graph Object\n",
        "DeepSNAP allows you to easily access graph information  through the backend graph object and graph manipulation package."
      ]
    },
    {
      "cell_type": "code",
      "execution_count": 14,
      "metadata": {
        "colab": {
          "base_uri": "https://localhost:8080/"
        },
        "id": "dLo4zWAoeg6S",
        "outputId": "4a020874-5e51-4786-c919-4145e7aa1ce7"
      },
      "outputs": [
        {
          "output_type": "stream",
          "name": "stdout",
          "text": [
            "The random graph has 100 nodes\n",
            "The random graph has 262 edges\n"
          ]
        }
      ],
      "source": [
        "if 'IS_GRADESCOPE_ENV' not in os.environ:\n",
        "  # Number of nodes\n",
        "  print(\"The random graph has {} nodes\".format(graph.num_nodes))\n",
        "\n",
        "  # Number of edges\n",
        "  print(\"The random graph has {} edges\".format(graph.num_edges))"
      ]
    },
    {
      "cell_type": "markdown",
      "metadata": {
        "id": "Po7IaRmwblI5"
      },
      "source": [
        "### PyG to DeepSNAP\n",
        "\n",
        "Lastly, DeepSNAP provides functionality to automatically transform a PyG dataset into a list of DeepSNAP graphs.\n",
        "\n",
        "Here you transform the CORA dataset into a list with one DeepSNAP graph (i.e. the singular CORA graph)."
      ]
    },
    {
      "cell_type": "code",
      "execution_count": 15,
      "metadata": {
        "colab": {
          "base_uri": "https://localhost:8080/"
        },
        "id": "ZFkg2kCgcFwR",
        "outputId": "7c7be9fe-4142-4fc4-960d-c6f8fcf4bf9d"
      },
      "outputs": [
        {
          "output_type": "stream",
          "name": "stdout",
          "text": [
            "Graph(G=[], edge_index=[2, 10556], edge_label_index=[2, 10556], node_feature=[2708, 1433], node_label=[2708], node_label_index=[2708])\n"
          ]
        }
      ],
      "source": [
        "if 'IS_GRADESCOPE_ENV' not in os.environ:\n",
        "  root = './tmp/cora'\n",
        "  name = 'Cora'\n",
        "\n",
        "  # The Cora dataset\n",
        "  pyg_dataset= Planetoid(root, name)\n",
        "\n",
        "  # PyG dataset to a list of deepsnap graphs\n",
        "  graphs = GraphDataset.pyg_to_graphs(pyg_dataset)\n",
        "\n",
        "  # Get the first deepsnap graph (CORA only has one graph)\n",
        "  graph = graphs[0]\n",
        "  print(graph)"
      ]
    },
    {
      "cell_type": "markdown",
      "metadata": {
        "id": "NLm5vVYMAP2x"
      },
      "source": [
        "## Question 2.1: How many classes are in the CORA graph? How many features does each node have? (5 points)\n"
      ]
    },
    {
      "cell_type": "code",
      "execution_count": 16,
      "metadata": {
        "colab": {
          "base_uri": "https://localhost:8080/"
        },
        "id": "8iF_Kyqr_JbY",
        "outputId": "9d3938ac-c87d-4262-dec2-40808c31dfc1"
      },
      "outputs": [
        {
          "output_type": "stream",
          "name": "stdout",
          "text": [
            "Cora has 7 classes\n",
            "Cora has 1433 features\n"
          ]
        }
      ],
      "source": [
        "def get_num_node_classes(graph):\n",
        "  # TODO: Implement a function that takes a deepsnap graph object\n",
        "  # and return the number of node classes of that graph.\n",
        "\n",
        "  num_node_classes = graph.num_node_labels\n",
        "\n",
        "  ############# Your code here #############\n",
        "  ## (~1 line of code)\n",
        "  ## Note\n",
        "  ## 1. Colab autocomplete functionality might be useful\n",
        "  ## 2. DeepSNAP documentation might be useful https://snap.stanford.edu/deepsnap/modules/graph.html\n",
        "  pass\n",
        "  ##########################################\n",
        "\n",
        "  return num_node_classes\n",
        "\n",
        "def get_num_node_features(graph):\n",
        "  # TODO: Implement a function that takes a deepsnap graph object\n",
        "  # and return the number of node features of that graph.\n",
        "\n",
        "  num_node_features = graph.num_node_features\n",
        "\n",
        "  ############# Your code here #############\n",
        "  ## (~1 line of code)\n",
        "  ## Note\n",
        "  ## 1. Colab autocomplete functionality might be useful\n",
        "  ## 2. DeepSNAP documentation might be useful https://snap.stanford.edu/deepsnap/modules/graph.html\n",
        "  pass\n",
        "  ##########################################\n",
        "\n",
        "  return num_node_features\n",
        "\n",
        "if 'IS_GRADESCOPE_ENV' not in os.environ:\n",
        "  num_node_classes = get_num_node_classes(graph)\n",
        "  num_node_features = get_num_node_features(graph)\n",
        "  print(\"{} has {} classes\".format(name, num_node_classes))\n",
        "  print(\"{} has {} features\".format(name, num_node_features))"
      ]
    },
    {
      "cell_type": "markdown",
      "metadata": {
        "id": "rwKbzhHUAckZ"
      },
      "source": [
        "## DeepSNAP Dataset\n",
        "\n",
        "Now, you will learn how to create DeepSNAP datasets. A `deepsnap.dataset.GraphDataset` contains a list of `deepsnap.graph.Graph` objects. In addition to the list of graphs, you must specify what task the dataset will be used on: node level task (`task=node`), edge level task (`task=link_pred`) and graph level task (`task=graph`).\n",
        "\n",
        "The GraphDataset class contains many other useful parameters that can be specified during initialization. If you are interested, you can take a look at the [documentation](https://snap.stanford.edu/deepsnap/modules/dataset.html#deepsnap-graphdataset)."
      ]
    },
    {
      "cell_type": "markdown",
      "metadata": {
        "id": "HSidf9E0hn2s"
      },
      "source": [
        "As an example, let us first look at the COX2 dataset, which contains 467 graphs. In initializing our dataset, convert the PyG dataset into its corresponding DeepSNAP dataset and specify the task to `graph`."
      ]
    },
    {
      "cell_type": "code",
      "execution_count": 17,
      "metadata": {
        "colab": {
          "base_uri": "https://localhost:8080/"
        },
        "id": "l4kqUldyoaS_",
        "outputId": "097e6773-9910-4280-fa81-2bd2609f9de1"
      },
      "outputs": [
        {
          "output_type": "stream",
          "name": "stdout",
          "text": [
            "GraphDataset(467)\n"
          ]
        }
      ],
      "source": [
        "if 'IS_GRADESCOPE_ENV' not in os.environ:\n",
        "  root = './tmp/cox2'\n",
        "  name = 'COX2'\n",
        "\n",
        "  # Load the dataset through PyG\n",
        "  pyg_dataset = TUDataset(root, name)\n",
        "\n",
        "  # Convert to a list of deepsnap graphs\n",
        "  graphs = GraphDataset.pyg_to_graphs(pyg_dataset)\n",
        "\n",
        "  # Convert list of deepsnap graphs to deepsnap dataset with specified task=graph\n",
        "  dataset = GraphDataset(graphs, task='graph')\n",
        "  print(dataset)"
      ]
    },
    {
      "cell_type": "markdown",
      "metadata": {
        "id": "7sCV3xJWCddX"
      },
      "source": [
        "## Question 2.2: What is the label of the graph with index 100? (5 points)"
      ]
    },
    {
      "cell_type": "code",
      "execution_count": 18,
      "metadata": {
        "colab": {
          "base_uri": "https://localhost:8080/"
        },
        "id": "LIis9oTZAfs3",
        "outputId": "bfe53ff5-95a1-440b-d227-5ea6292c8132"
      },
      "outputs": [
        {
          "output_type": "stream",
          "name": "stdout",
          "text": [
            "Graph(G=[], edge_index=[2, 82], edge_label_index=[2, 82], graph_label=[1], node_feature=[39, 35], node_label_index=[39], task=[])\n",
            "Graph with index 100 has label tensor([0])\n"
          ]
        }
      ],
      "source": [
        "def get_graph_class(dataset, idx):\n",
        "  # TODO: Implement a function that takes a deepsnap dataset object,\n",
        "  # the index of a graph in the dataset, and returns the class/label\n",
        "  # of the graph (in integer).\n",
        "\n",
        "  label = dataset[idx].graph_label\n",
        "\n",
        "  ############# Your code here ############\n",
        "  ## (~1 line of code)\n",
        "  ## Notice\n",
        "  ## 1. The graph label refers to a graph-level attribute\n",
        "  pass\n",
        "  #########################################\n",
        "\n",
        "  return label\n",
        "\n",
        "if 'IS_GRADESCOPE_ENV' not in os.environ:\n",
        "  graph_0 = dataset[0]\n",
        "  print(graph_0)\n",
        "  idx = 100\n",
        "  label = get_graph_class(dataset, idx)\n",
        "  print('Graph with index {} has label {}'.format(idx, label))"
      ]
    },
    {
      "cell_type": "markdown",
      "metadata": {
        "id": "fKhcVeAhCwoY"
      },
      "source": [
        "## Question 2.3: How many edges are in the graph with index 200? (5 points)\n"
      ]
    },
    {
      "cell_type": "code",
      "execution_count": 19,
      "metadata": {
        "colab": {
          "base_uri": "https://localhost:8080/"
        },
        "id": "f5m2DOfhBtWv",
        "outputId": "c56a6dd3-c345-4c1d-a63a-c05254ca6ba2"
      },
      "outputs": [
        {
          "output_type": "stream",
          "name": "stdout",
          "text": [
            "Graph with index 200 has 49 edges\n"
          ]
        }
      ],
      "source": [
        "def get_graph_num_edges(dataset, idx):\n",
        "  # TODO: Implement a function that takes a deepsnap dataset object,\n",
        "  # the index of a graph in dataset, and returns the number of\n",
        "  # edges in the graph (in integer).\n",
        "\n",
        "  num_edges = dataset[idx].num_edges\n",
        "\n",
        "  ############# Your code here ############\n",
        "  ## (~1 lines of code)\n",
        "  ## Note\n",
        "  ## 1. You can use the class property directly\n",
        "  pass\n",
        "  #########################################\n",
        "\n",
        "  return num_edges\n",
        "\n",
        "if 'IS_GRADESCOPE_ENV' not in os.environ:\n",
        "  idx = 200\n",
        "  num_edges = get_graph_num_edges(dataset, idx)\n",
        "  print('Graph with index {} has {} edges'.format(idx, num_edges))"
      ]
    },
    {
      "cell_type": "markdown",
      "metadata": {
        "id": "AXa7yIG4E0Fp"
      },
      "source": [
        "# 3) DeepSNAP Advanced\n",
        "\n",
        "Now that you have learned the basics of DeepSNAP, let's move on to some more advanced functionalities.\n",
        "\n",
        "In this section you will use DeepSNAP for graph feature computation and transductive/inductive dataset splitting."
      ]
    },
    {
      "cell_type": "markdown",
      "metadata": {
        "id": "Y5fsGBLY8cxa"
      },
      "source": [
        "## Setup"
      ]
    },
    {
      "cell_type": "code",
      "execution_count": 20,
      "metadata": {
        "id": "g-jgRLiQ8cSj"
      },
      "outputs": [],
      "source": [
        "import torch\n",
        "import networkx as nx\n",
        "import matplotlib.pyplot as plt\n",
        "\n",
        "from deepsnap.graph import Graph\n",
        "from deepsnap.batch import Batch\n",
        "from deepsnap.dataset import GraphDataset\n",
        "from torch_geometric.datasets import Planetoid, TUDataset\n",
        "\n",
        "from torch.utils.data import DataLoader"
      ]
    },
    {
      "cell_type": "markdown",
      "metadata": {
        "id": "HnazPGGAJAZN"
      },
      "source": [
        "## Data Split in Graphs\n",
        "\n",
        "As discussed in the `Module 2: Introduction to Graph Neural Networks / 2.3  GNN Training Pipeline / Setting up GNN Prediction Tasks` Lecture, data splitting for graphs can be much harder than for CV or NLP.\n",
        "\n",
        "In general, data splitting is divided into two settings, **inductive** and **transductive**."
      ]
    },
    {
      "cell_type": "markdown",
      "metadata": {
        "id": "l9KG_MhqsWBp"
      },
      "source": [
        "## Inductive Split\n",
        "\n",
        "In an inductive setting, you split a list of multiple graphs into disjoint training/valiation and test sets.\n",
        "\n",
        "Here is an example of using DeepSNAP to inductively split a list of graphs for a graph level task (graph classification etc.):"
      ]
    },
    {
      "cell_type": "code",
      "execution_count": 21,
      "metadata": {
        "colab": {
          "base_uri": "https://localhost:8080/"
        },
        "id": "Gpc6bTm3GF02",
        "outputId": "a4d4aff9-e35e-41d3-f717-c7213b7fea64"
      },
      "outputs": [
        {
          "output_type": "stream",
          "name": "stdout",
          "text": [
            "COX2 train dataset: GraphDataset(373)\n",
            "COX2 validation dataset: GraphDataset(46)\n",
            "COX2 test dataset: GraphDataset(48)\n"
          ]
        }
      ],
      "source": [
        "if 'IS_GRADESCOPE_ENV' not in os.environ:\n",
        "  root = './tmp/cox2'\n",
        "  name = 'COX2'\n",
        "\n",
        "  pyg_dataset = TUDataset(root, name)\n",
        "\n",
        "  graphs = GraphDataset.pyg_to_graphs(pyg_dataset)\n",
        "\n",
        "  # Here we specify the task as graph-level task such as graph classification\n",
        "  task = 'graph'\n",
        "  dataset = GraphDataset(graphs, task=task)\n",
        "\n",
        "  # Specify transductive=False (inductive)\n",
        "  dataset_train, dataset_val, dataset_test = dataset.split(transductive=False, split_ratio=[0.8, 0.1, 0.1])\n",
        "\n",
        "  print(\"COX2 train dataset: {}\".format(dataset_train))\n",
        "  print(\"COX2 validation dataset: {}\".format(dataset_val))\n",
        "  print(\"COX2 test dataset: {}\".format(dataset_test))"
      ]
    },
    {
      "cell_type": "markdown",
      "metadata": {
        "id": "yWKQwa4WsgQp"
      },
      "source": [
        "## Transductive Split\n",
        "\n",
        "In the transductive setting, the training /validation / test sets are all over the same graph. As discussed in the `Module 2: Introduction to Graph Neural Networks / 2.3  GNN Training Pipeline / Setting up GNN Prediction Tasks` Lecture, in a transductive setting, we do not need to generalize to new unseen graphs.\n",
        "\n",
        "As an example, here you transductively split the CORA graph for a node level task, such as node classification.\n",
        "\n",
        "(Notice that in DeepSNAP the default split setting is random (i.e. DeepSNAP randomly splits the e.g. nodes into train / val / test); however, you can also use a fixed split by specifying `fixed_split=True` when loading the dataset from PyG or changing the `node_label_index` directly)."
      ]
    },
    {
      "cell_type": "code",
      "execution_count": 22,
      "metadata": {
        "colab": {
          "base_uri": "https://localhost:8080/"
        },
        "id": "b5OdxSg4sfyR",
        "outputId": "e547a031-add0-4f8a-8ebb-48ed77c62d93"
      },
      "outputs": [
        {
          "output_type": "stream",
          "name": "stdout",
          "text": [
            "Cora train dataset: GraphDataset(1)\n",
            "Cora validation dataset: GraphDataset(1)\n",
            "Cora test dataset: GraphDataset(1)\n",
            "Original Cora has 2708 nodes\n",
            "After the split, Cora has 2166 training nodes\n",
            "After the split, Cora has 270 validation nodes\n",
            "After the split, Cora has 272 test nodes\n"
          ]
        }
      ],
      "source": [
        "if 'IS_GRADESCOPE_ENV' not in os.environ:\n",
        "  root = './tmp/cora'\n",
        "  name = 'Cora'\n",
        "\n",
        "  pyg_dataset = Planetoid(root, name)\n",
        "\n",
        "  graphs = GraphDataset.pyg_to_graphs(pyg_dataset)\n",
        "\n",
        "  # Here we specify the task as node-level task such as node classification\n",
        "  task = 'node'\n",
        "\n",
        "  dataset = GraphDataset(graphs, task=task)\n",
        "\n",
        "  # Specify we want the transductive splitting\n",
        "  dataset_train, dataset_val, dataset_test = dataset.split(transductive=True, split_ratio=[0.8, 0.1, 0.1])\n",
        "\n",
        "  print(\"Cora train dataset: {}\".format(dataset_train))\n",
        "  print(\"Cora validation dataset: {}\".format(dataset_val))\n",
        "  print(\"Cora test dataset: {}\".format(dataset_test))\n",
        "\n",
        "  print(\"Original Cora has {} nodes\".format(dataset.num_nodes[0]))\n",
        "\n",
        "  # The nodes in each set can be find in node_label_index\n",
        "  print(\"After the split, Cora has {} training nodes\".format(dataset_train[0].node_label_index.shape[0]))\n",
        "  print(\"After the split, Cora has {} validation nodes\".format(dataset_val[0].node_label_index.shape[0]))\n",
        "  print(\"After the split, Cora has {} test nodes\".format(dataset_test[0].node_label_index.shape[0]))"
      ]
    },
    {
      "cell_type": "markdown",
      "metadata": {
        "id": "d7ePKgM00lGE"
      },
      "source": [
        "## Edge Level Split\n",
        "\n",
        "Compared to node and graph level splitting, edge level splitting is a little bit tricky ;)\n",
        "\n",
        "For edge level splitting you need to consider several different tasks:\n",
        "\n",
        "1. Splitting positive edges into train / val / test datasets.\n",
        "2. Sampling / re-sampling negative edges (i.e. edges not present in the graph).\n",
        "3. Splitting edges into message passing and supervision edges.\n",
        "\n",
        "With regard to point 3, for edge level data splitting we classify edges into two types. The first is `message passing` edges, edges that are used for message passing by our GNN. The second is `supervision`, edges that are used in the loss function for backpropagation. DeepSNAP allows for two different modes, where the `message passing` and `supervision` edges are either the same or disjoint."
      ]
    },
    {
      "cell_type": "markdown",
      "metadata": {
        "id": "SnzISX5RoiR6"
      },
      "source": [
        "### All Edge Splitting Mode\n",
        "\n",
        "First, you will explore the `edge_train_mode=\"all\"` mode for edge level splitting, where the `message passing` and `supervision` edges are shared during training."
      ]
    },
    {
      "cell_type": "code",
      "execution_count": 23,
      "metadata": {
        "colab": {
          "base_uri": "https://localhost:8080/"
        },
        "id": "_D104xO6137n",
        "outputId": "49b4f66a-ca5d-485d-e326-7f0cb53b197f"
      },
      "outputs": [
        {
          "output_type": "stream",
          "name": "stdout",
          "text": [
            "Cora train dataset: GraphDataset(1)\n",
            "Cora validation dataset: GraphDataset(1)\n",
            "Cora test dataset: GraphDataset(1)\n"
          ]
        }
      ],
      "source": [
        "if 'IS_GRADESCOPE_ENV' not in os.environ:\n",
        "  root = './tmp/cora'\n",
        "  name = 'Cora'\n",
        "\n",
        "  pyg_dataset = Planetoid(root, name)\n",
        "\n",
        "  graphs = GraphDataset.pyg_to_graphs(pyg_dataset)\n",
        "\n",
        "  # Specify task as link_pred for edge-level task\n",
        "  task = 'link_pred'\n",
        "\n",
        "  # Specify the train mode, \"all\" mode is default for deepsnap dataset\n",
        "  edge_train_mode = \"all\"\n",
        "\n",
        "  dataset = GraphDataset(graphs, task=task, edge_train_mode=edge_train_mode)\n",
        "\n",
        "  # Transductive link prediction split\n",
        "  dataset_train, dataset_val, dataset_test = dataset.split(transductive=True, split_ratio=[0.8, 0.1, 0.1])\n",
        "\n",
        "  print(\"Cora train dataset: {}\".format(dataset_train))\n",
        "  print(\"Cora validation dataset: {}\".format(dataset_val))\n",
        "  print(\"Cora test dataset: {}\".format(dataset_test))"
      ]
    },
    {
      "cell_type": "markdown",
      "metadata": {
        "id": "GscopwOXC_Y7"
      },
      "source": [
        "In DeepSNAP, the indices of supervision edges are stored in the `edge_label_index` tensor and the corresponding edge labels are stored in `edge_label` tensor."
      ]
    },
    {
      "cell_type": "code",
      "execution_count": 24,
      "metadata": {
        "colab": {
          "base_uri": "https://localhost:8080/"
        },
        "id": "XJF8fZnA2eLR",
        "outputId": "930ca500-a5f6-4907-e10c-92a9e887882b"
      },
      "outputs": [
        {
          "output_type": "stream",
          "name": "stdout",
          "text": [
            "Original Cora graph has 5278 edges\n",
            "\n",
            "Train set has 4222 message passing edge\n",
            "Train set has 4222 supervision (positive) edges\n",
            "\n",
            "Validation set has 4222 message passing edge\n",
            "Validation set has 527 supervision (positive) edges\n",
            "\n",
            "Test set has 4749 message passing edge\n",
            "Test set has 529 supervision (positive) edges\n"
          ]
        }
      ],
      "source": [
        "if 'IS_GRADESCOPE_ENV' not in os.environ:\n",
        "  print(\"Original Cora graph has {} edges\".format(dataset[0].num_edges))\n",
        "  print()\n",
        "\n",
        "  print(\"Train set has {} message passing edge\".format(dataset_train[0].edge_index.shape[1] // 2))\n",
        "  print(\"Train set has {} supervision (positive) edges\".format(dataset_train[0].edge_label_index.shape[1] // 4))\n",
        "\n",
        "  print()\n",
        "  print(\"Validation set has {} message passing edge\".format(dataset_val[0].edge_index.shape[1] // 2))\n",
        "  print(\"Validation set has {} supervision (positive) edges\".format(dataset_val[0].edge_label_index.shape[1] // 4))\n",
        "\n",
        "  print()\n",
        "  print(\"Test set has {} message passing edge\".format(dataset_test[0].edge_index.shape[1] // 2))\n",
        "  print(\"Test set has {} supervision (positive) edges\".format(dataset_test[0].edge_label_index.shape[1] // 4))"
      ]
    },
    {
      "cell_type": "markdown",
      "metadata": {
        "id": "s6BX-I_oEKQX"
      },
      "source": [
        "**Specific things to note in `all` mode**:\n",
        "\n",
        "* At training time: the supervision edges are the same as the training message passing edges.  \n",
        "* At validation time: the message passing edges are the training message passing edges and training supervision edges (still the training message passing edges in this case). However, you now include a set of unseen validation supervision edges that are disjoint from the training supervision edges.\n",
        "* At test time: the message passing edges are the union of training message passing edges, training supervision edges, and validation supervision edges. The test supervision edges then disjoint from the training supervision edges and validation supervision edges.\n",
        "* For this illustration negative edges are excluded. However, the attributes `edge_label` and `edge_label_index` naturally also include the negative supervision edges (by default the number of negative edges is the same as the number of positive edges, hence the divide by 4 above).\n",
        "\n",
        "\n",
        "Now, that you have seen the basics of the `all` method for edge splitting, you will implement a function that checks whether two edge index tensors are disjoint and explore more edge splitting properties by using that function."
      ]
    },
    {
      "cell_type": "markdown",
      "metadata": {
        "id": "YOZHDskbAKN6"
      },
      "source": [
        "## Question 3: Implement a function that checks whether two edge_index tensors are disjoint (i.e. do not share any common edges). Then answer the True/False questions below. (10 points)\n",
        "\n"
      ]
    },
    {
      "cell_type": "code",
      "execution_count": 25,
      "metadata": {
        "id": "wgRYdyPp8EmO"
      },
      "outputs": [],
      "source": [
        "def edge_indices_disjoint(edge_index_1, edge_index_2):\n",
        "  # TODO: Implement this function that takes two edge index tensors,\n",
        "  # and returns whether these two edge index tensors are disjoint.\n",
        "  disjoint = None\n",
        "\n",
        "  ############# Your code here ############\n",
        "  ## (~5 lines of code)\n",
        "  ## Note\n",
        "  ## 1. Here disjoint means that there is no single edge belonging to both edge index tensors\n",
        "  ## 2. You do not need to consider the undirected case. For example, if edge_index_1 contains\n",
        "  ## edge (a, b) and edge_index_2 contains edge (b, a). We will treat them as disjoint in this\n",
        "  ## function.\n",
        "  pass\n",
        "  #########################################\n",
        "  edge_index_1 = edge_index_1.permute(1, 0)\n",
        "  edge_index_2 = edge_index_2.permute(1, 0)\n",
        "\n",
        "  disjoint = True\n",
        "  for edge in edge_index_1:\n",
        "      eq = edge_index_2 == edge\n",
        "      if torch.bitwise_and(eq[:, 0], eq[:, 1]).any():\n",
        "          return False\n",
        "\n",
        "\n",
        "  return disjoint"
      ]
    },
    {
      "cell_type": "code",
      "execution_count": 26,
      "metadata": {
        "colab": {
          "base_uri": "https://localhost:8080/"
        },
        "id": "EL4ASIDDEIUf",
        "outputId": "ea1ff97e-db79-4539-8c57-0f30decd783b"
      },
      "outputs": [
        {
          "output_type": "stream",
          "name": "stdout",
          "text": [
            "3.1 Training (supervision) positive and negative edges are disjoint = True\n",
            "3.2 Validation (supervision) positive and negative edges are disjoint = True\n",
            "3.3 Test (supervision) positive and negative edges are disjoint = True\n",
            "3.4 Test (supervision) positive and validation (supervision) positive edges are disjoint = True\n",
            "3.5 Validation (supervision) positive and training (supervision) positive edges are disjoint = True\n"
          ]
        }
      ],
      "source": [
        "if 'IS_GRADESCOPE_ENV' not in os.environ:\n",
        "  num_train_edges = dataset_train[0].edge_label_index.shape[1] // 2\n",
        "  train_pos_edge_index = dataset_train[0].edge_label_index[:, :num_train_edges]\n",
        "  train_neg_edge_index = dataset_train[0].edge_label_index[:, num_train_edges:]\n",
        "  print(\"3.1 Training (supervision) positive and negative edges are disjoint = {}\"\\\n",
        "          .format(edge_indices_disjoint(train_pos_edge_index, train_neg_edge_index)))\n",
        "\n",
        "  num_val_edges = dataset_val[0].edge_label_index.shape[1] // 2\n",
        "  val_pos_edge_index = dataset_val[0].edge_label_index[:, :num_val_edges]\n",
        "  val_neg_edge_index = dataset_val[0].edge_label_index[:, num_val_edges:]\n",
        "  print(\"3.2 Validation (supervision) positive and negative edges are disjoint = {}\"\\\n",
        "          .format(edge_indices_disjoint(val_pos_edge_index, val_neg_edge_index)))\n",
        "\n",
        "  num_test_edges = dataset_test[0].edge_label_index.shape[1] // 2\n",
        "  test_pos_edge_index = dataset_test[0].edge_label_index[:, :num_test_edges]\n",
        "  test_neg_edge_index = dataset_test[0].edge_label_index[:, num_test_edges:]\n",
        "  print(\"3.3 Test (supervision) positive and negative edges are disjoint = {}\"\\\n",
        "          .format(edge_indices_disjoint(test_pos_edge_index, test_neg_edge_index)))\n",
        "\n",
        "  print(\"3.4 Test (supervision) positive and validation (supervision) positive edges are disjoint = {}\"\\\n",
        "          .format(edge_indices_disjoint(test_pos_edge_index, val_pos_edge_index)))\n",
        "  print(\"3.5 Validation (supervision) positive and training (supervision) positive edges are disjoint = {}\"\\\n",
        "          .format(edge_indices_disjoint(val_pos_edge_index, train_pos_edge_index)))"
      ]
    },
    {
      "cell_type": "markdown",
      "metadata": {
        "id": "8jLoVN5ZBTuA"
      },
      "source": [
        "### Disjoint Edge Splitting Mode\n",
        "\n",
        "Now you will look at a relatively more complex transductive edge split setting, the `edge_train_mode=\"disjoint\"` mode in DeepSNAP. In this setting, the `message passing` and `supervision` edges are completely disjoint"
      ]
    },
    {
      "cell_type": "code",
      "execution_count": 27,
      "metadata": {
        "colab": {
          "base_uri": "https://localhost:8080/"
        },
        "id": "3Rqzfb-0BTBm",
        "outputId": "8a3d01f4-1d41-4d64-9323-310ddef72161"
      },
      "outputs": [
        {
          "output_type": "stream",
          "name": "stdout",
          "text": [
            "Original Cora graph has 5278 edges\n",
            "\n",
            "Train set has 3377 message passing edge\n",
            "Train set has 845 supervision (positive) edges\n",
            "\n",
            "Validation set has 4222 message passing edge\n",
            "Validation set has 527 supervision (positive) edges\n",
            "\n",
            "Test set has 4749 message passing edge\n",
            "Test set has 529 supervision (positive) edges\n"
          ]
        }
      ],
      "source": [
        "if 'IS_GRADESCOPE_ENV' not in os.environ:\n",
        "  edge_train_mode = \"disjoint\"\n",
        "\n",
        "  dataset = GraphDataset(graphs, task='link_pred', edge_train_mode=edge_train_mode)\n",
        "  orig_edge_index = dataset[0].edge_index\n",
        "  dataset_train, dataset_val, dataset_test = dataset.split(\n",
        "      transductive=True, split_ratio=[0.8, 0.1, 0.1])\n",
        "\n",
        "  train_message_edge_index = dataset_train[0].edge_index\n",
        "  train_sup_edge_index = dataset_train[0].edge_label_index\n",
        "  val_message_edge_index = dataset_val[0].edge_index\n",
        "  val_sup_edge_index = dataset_val[0].edge_label_index\n",
        "  test_message_edge_index = dataset_test[0].edge_index\n",
        "  test_sup_edge_index = dataset_test[0].edge_label_index\n",
        "\n",
        "  print(\"Original Cora graph has {} edges\".format(dataset[0].num_edges))\n",
        "  print()\n",
        "  print(\"Train set has {} message passing edge\".format(train_message_edge_index.shape[1] // 2))\n",
        "  print(\"Train set has {} supervision (positive) edges\".format(train_sup_edge_index.shape[1] // 4))\n",
        "\n",
        "  print()\n",
        "  print(\"Validation set has {} message passing edge\".format(val_message_edge_index.shape[1] // 2))\n",
        "  print(\"Validation set has {} supervision (positive) edges\".format(val_sup_edge_index.shape[1] // 4))\n",
        "\n",
        "  print()\n",
        "  print(\"Test set has {} message passing edge\".format(test_message_edge_index.shape[1] // 2))\n",
        "  print(\"Test set has {} supervision (positive) edges\".format(test_sup_edge_index.shape[1] // 4))"
      ]
    },
    {
      "cell_type": "markdown",
      "metadata": {
        "id": "TUkBhiJNciol"
      },
      "source": [
        "\n",
        "**Specific things to note in `disjoint` mode**:\n",
        "\n",
        "* At training time: the training supervision edges are disjoint from the training message passing edges.\n",
        "* At validation time: the message passing edges are the union of training message passing edges and training supervision edges. The validation supervision edges are disjoint from both the training message passing and supervision edges.\n",
        "* At test time: the message passing edges are the training message passing edges, training supervision edges, and validation supervision edges. The test supervision edges are disjoint from all the training and validation edges."
      ]
    },
    {
      "cell_type": "markdown",
      "metadata": {
        "id": "2WKfRjqAJHtK"
      },
      "source": [
        "## Negative Edges\n",
        "\n",
        "For edge level tasks, sampling negative edges (edges not present in the graph) is critical. Moreover, during each training iteration, you want to resample the negative edges.\n",
        "\n",
        "Below we print the training and validation sets negative edges in two training iterations.\n",
        "\n",
        "What we demonstrate is that the negative edges are only resampled during training."
      ]
    },
    {
      "cell_type": "code",
      "execution_count": 28,
      "metadata": {
        "colab": {
          "base_uri": "https://localhost:8080/"
        },
        "id": "AMEbnx63JHWj",
        "outputId": "7f354fb1-169c-4fff-aa7a-80c2b039aed9"
      },
      "outputs": [
        {
          "output_type": "stream",
          "name": "stdout",
          "text": [
            "First iteration training negative edges:\n",
            "tensor([[ 536,  922,  277,  ..., 1707,  548, 2414],\n",
            "        [2136,   65, 2343,  ..., 1985,  959, 1933]])\n",
            "Second iteration training negative edges:\n",
            "tensor([[ 771, 2435,  264,  ..., 1351,  863,  197],\n",
            "        [1579, 1977, 2340,  ..., 2680,   53,  268]])\n",
            "First iteration validation negative edges:\n",
            "tensor([[   3, 1027, 2552,  ..., 2482, 1815, 1133],\n",
            "        [2226, 1985,  353,  ...,  354,  816, 1193]])\n",
            "Second iteration validation negative edges:\n",
            "tensor([[   3, 1027, 2552,  ..., 2482, 1815, 1133],\n",
            "        [2226, 1985,  353,  ...,  354,  816, 1193]])\n"
          ]
        }
      ],
      "source": [
        "if 'IS_GRADESCOPE_ENV' not in os.environ:\n",
        "  dataset = GraphDataset(graphs, task='link_pred', edge_train_mode=\"disjoint\")\n",
        "  datasets = {}\n",
        "  follow_batch = []\n",
        "  datasets['train'], datasets['val'], datasets['test'] = dataset.split(\n",
        "      transductive=True, split_ratio=[0.8, 0.1, 0.1])\n",
        "  dataloaders = {\n",
        "    split: DataLoader(\n",
        "      ds, collate_fn=Batch.collate(follow_batch),\n",
        "      batch_size=1, shuffle=(split=='train')\n",
        "    )\n",
        "    for split, ds in datasets.items()\n",
        "  }\n",
        "  neg_edges_1 = None\n",
        "  for batch in dataloaders['train']:\n",
        "    num_edges = batch.edge_label_index.shape[1] // 2\n",
        "    neg_edges_1 = batch.edge_label_index[:, num_edges:]\n",
        "    print(\"First iteration training negative edges:\")\n",
        "    print(neg_edges_1)\n",
        "    break\n",
        "  neg_edges_2 = None\n",
        "  for batch in dataloaders['train']:\n",
        "    num_edges = batch.edge_label_index.shape[1] // 2\n",
        "    neg_edges_2 = batch.edge_label_index[:, num_edges:]\n",
        "    print(\"Second iteration training negative edges:\")\n",
        "    print(neg_edges_2)\n",
        "    break\n",
        "\n",
        "  neg_edges_1 = None\n",
        "  for batch in dataloaders['val']:\n",
        "    num_edges = batch.edge_label_index.shape[1] // 2\n",
        "    neg_edges_1 = batch.edge_label_index[:, num_edges:]\n",
        "    print(\"First iteration validation negative edges:\")\n",
        "    print(neg_edges_1)\n",
        "    break\n",
        "  neg_edges_2 = None\n",
        "  for batch in dataloaders['val']:\n",
        "    num_edges = batch.edge_label_index.shape[1] // 2\n",
        "    neg_edges_2 = batch.edge_label_index[:, num_edges:]\n",
        "    print(\"Second iteration validation negative edges:\")\n",
        "    print(neg_edges_2)\n",
        "    break"
      ]
    },
    {
      "cell_type": "markdown",
      "metadata": {
        "id": "DEzqh7wEdrh0"
      },
      "source": [
        "If you are interested in more graph splitting settings, please refer to the DeepSNAP dataset [documentation](https://snap.stanford.edu/deepsnap/modules/dataset.html)."
      ]
    },
    {
      "cell_type": "markdown",
      "metadata": {
        "id": "XkrYyeSUI_9_"
      },
      "source": [
        "## Graph Transformation and Feature Computation\n",
        "\n",
        "The other core functionality of DeepSNAP is graph transformation / feature computation.\n",
        "\n",
        "In DeepSNAP, graph transformation / feature computation is divided into two different types. The first includes transformations before training (e.g. transform the whole dataset before training directly), and the second includes transformations during training (transform batches of graphs).\n",
        "\n",
        "Below is an example that uses the NetworkX back end to calculate the PageRank value for each node and subsequently transforms the node features by concatenating each nodes PageRank score (transform the dataset before training)."
      ]
    },
    {
      "cell_type": "code",
      "execution_count": 29,
      "metadata": {
        "colab": {
          "base_uri": "https://localhost:8080/"
        },
        "id": "gnAVbZINLZ4I",
        "outputId": "268671e3-5f14-4fef-f054-c7414f76be5e"
      },
      "outputs": [
        {
          "output_type": "stream",
          "name": "stdout",
          "text": [
            "Number of features before transformation: 35\n",
            "Number of features after transformation: 36\n"
          ]
        }
      ],
      "source": [
        "def pagerank_transform_fn(graph):\n",
        "\n",
        "  # Get the referenced networkx graph\n",
        "  G = graph.G\n",
        "\n",
        "  # Calculate the pagerank by using networkx\n",
        "  pr = nx.pagerank(G)\n",
        "\n",
        "  # Transform the pagerank values to tensor\n",
        "  pr_feature = torch.tensor([pr[node] for node in range(graph.num_nodes)], dtype=torch.float32)\n",
        "  pr_feature = pr_feature.view(graph.num_nodes, 1)\n",
        "\n",
        "  # Concat the pagerank values to the node feature\n",
        "  graph.node_feature = torch.cat([graph.node_feature, pr_feature], dim=-1)\n",
        "\n",
        "if 'IS_GRADESCOPE_ENV' not in os.environ:\n",
        "  root = './tmp/cox2'\n",
        "  name = 'COX2'\n",
        "  pyg_dataset = TUDataset(root, name)\n",
        "  graphs = GraphDataset.pyg_to_graphs(pyg_dataset)\n",
        "  dataset = GraphDataset(graphs, task='graph')\n",
        "  print(\"Number of features before transformation: {}\".format(dataset.num_node_features))\n",
        "  dataset.apply_transform(pagerank_transform_fn, update_tensor=False)\n",
        "  print(\"Number of features after transformation: {}\".format(dataset.num_node_features))"
      ]
    },
    {
      "cell_type": "markdown",
      "metadata": {
        "id": "LHByE87SQkUw"
      },
      "source": [
        "## Question 4: Implement a transformation that adds the clustering coefficient of each node to its feature vector and then report the clustering coefficient of the node with index 3 in the graph with index 406 (10 points)."
      ]
    },
    {
      "cell_type": "code",
      "execution_count": 30,
      "metadata": {
        "colab": {
          "base_uri": "https://localhost:8080/"
        },
        "id": "RNEjfOZRNjYb",
        "outputId": "c53cf4f6-015b-4f53-d698-e515f7376122"
      },
      "outputs": [
        {
          "output_type": "stream",
          "name": "stdout",
          "text": [
            "The node has clustering coefficient: 0.17\n"
          ]
        }
      ],
      "source": [
        "def cluster_transform_fn(graph):\n",
        "  # TODO: Implement a function that takes an deepsnap graph object and\n",
        "  # transform the graph by adding each node's clustering coefficient to its\n",
        "  # graph.node_feature representation\n",
        "\n",
        "  ############# Your code here ############\n",
        "  ## (~5 lines of code)\n",
        "  ## Note\n",
        "  ## 1. Compute the clustering coefficient value for each node and\n",
        "  ## concat this value to the last dimension of graph.node_feature\n",
        "  pass\n",
        "  #########################################\n",
        "  clst = nx.clustering(graph.G)\n",
        "  coeffs = torch.Tensor(list(clst.values())).unsqueeze(1)\n",
        "  graph.node_feature = torch.hstack((graph.node_feature, coeffs))\n",
        "\n",
        "\n",
        "if 'IS_GRADESCOPE_ENV' not in os.environ:\n",
        "  root = './cox2'\n",
        "  name = 'COX2'\n",
        "  pyg_dataset = TUDataset(root, name)\n",
        "  graphs = GraphDataset.pyg_to_graphs(pyg_dataset)\n",
        "  dataset = GraphDataset(graphs, task='graph')\n",
        "\n",
        "  # Transform the dataset\n",
        "  dataset.apply_transform(cluster_transform_fn, update_tensor=False)\n",
        "\n",
        "  node_idx = 3\n",
        "  graph_idx = 406\n",
        "  node_feature = dataset[graph_idx].node_feature\n",
        "\n",
        "  print(\"The node has clustering coefficient: {}\".format(round(node_feature[node_idx][-1].item(), 2)))"
      ]
    },
    {
      "cell_type": "markdown",
      "metadata": {
        "id": "4P5Ig7XaPYzp"
      },
      "source": [
        "### Final Thoughts\n",
        "Apart from transforming the whole dataset before training, DeepSNAP can also transform the graph (usually sampled batches of graphs, `deepsnap.batch.Batch`) during each training iteration.\n",
        "\n",
        "Also, DeepSNAP supports the synchronization of the transformation between the referenced graph objects and tensor representations. For example, you can just update the NetworkX graph object in the transform function, and by specifying `update_tensor=True` the internal tensor representations will be automatically updated!\n",
        "\n",
        "For more information, please refer to the DeepSNAP [documentation](https://snap.stanford.edu/deepsnap/)."
      ]
    },
    {
      "cell_type": "markdown",
      "metadata": {
        "id": "s-YLYMLFQYqp"
      },
      "source": [
        "# 4) Edge Level Prediction\n",
        "\n",
        "From the last section, you learned how DeepSNAP transductively splits edges for edge level tasks. For the last part of the notebook, you will use DeepSNAP and PyG together to implement a simple edge level prediction (link prediction) model!\n",
        "\n",
        "Specifically, you will use a 2 layer GraphSAGE embedding model to generate node embeddings, and then compute link predictions through a dot product link prediction head. Namely, given an edge (u, v) with GNN feature embeddings $f_u$ and $f_v$, our link prediction head generates its link prediction as $f_u \\cdot f_v$.\n",
        "\n",
        "To give a brief intuition for this dot product link prediction model, we are learning a GNN that embedds nodes such that nodes that have an edge in the graph are closer within the embedding space than nodes that do not have an edge. The dot product provides a proxy for closeness in our embedding space where a high positive dot product indicates that two vectors are more closely aligned (the angle between the vectors is small), whereas a negative dot-product indicates that vectors are unaligned (the angle between the vectors is greater than 90)."
      ]
    },
    {
      "cell_type": "code",
      "execution_count": 31,
      "metadata": {
        "id": "hrKCNtvERypQ"
      },
      "outputs": [],
      "source": [
        "import copy\n",
        "import torch\n",
        "import numpy as np\n",
        "import networkx as nx\n",
        "import matplotlib.pyplot as plt\n",
        "\n",
        "from deepsnap.graph import Graph\n",
        "from deepsnap.batch import Batch\n",
        "from deepsnap.dataset import GraphDataset\n",
        "from torch_geometric.datasets import Planetoid, TUDataset\n",
        "\n",
        "from torch.utils.data import DataLoader\n",
        "\n",
        "import torch.nn.functional as F\n",
        "from torch_geometric.nn import SAGEConv\n",
        "\n",
        "class LinkPredModel(torch.nn.Module):\n",
        "    def __init__(self, input_dim, hidden_dim, num_classes, dropout=0.2):\n",
        "        super(LinkPredModel, self).__init__()\n",
        "\n",
        "        self.conv1 = SAGEConv(input_dim, hidden_dim)\n",
        "        self.conv2 = SAGEConv(hidden_dim, hidden_dim)\n",
        "\n",
        "        self.loss_fn = nn.BCEWithLogitsLoss()\n",
        "\n",
        "        ############# Your code here #############\n",
        "        ## (~1 line of code)\n",
        "        ## Note\n",
        "        ## 1. Initialize the loss function to BCEWithLogitsLoss\n",
        "        pass\n",
        "        ##########################################\n",
        "\n",
        "        self.dropout = dropout\n",
        "\n",
        "    def reset_parameters(self):\n",
        "        self.conv1.reset_parameters()\n",
        "        self.conv2.reset_parameters()\n",
        "\n",
        "    def forward(self, batch):\n",
        "        node_feature, edge_index, edge_label_index = batch.node_feature, batch.edge_index, batch.edge_label_index\n",
        "\n",
        "        ############# Your code here #############\n",
        "        ## (~6 line of code)\n",
        "        ## Note\n",
        "        ## 1. Feed the node feature into the first conv layer\n",
        "        ## 2. Add a ReLU after the first conv layer\n",
        "        ## 3. Add dropout after the ReLU (with probability self.dropout)\n",
        "        ## 4. Feed the output to the second conv layer\n",
        "        ## 5. Select the embeddings of the source and destination\n",
        "        ## nodes of each edge by using the edge_label_index and\n",
        "        ## compute the dot product similarity of each pair.\n",
        "        pass\n",
        "        ##########################################\n",
        "        out = self.conv1(node_feature, edge_index)\n",
        "        out = F.relu(out)\n",
        "        out = F.dropout(out, p=self.dropout, training=self.training)\n",
        "        out = self.conv2(out, edge_index)\n",
        "        src_emb, dest_emb = out[edge_label_index[0]], out[edge_label_index[1]]\n",
        "        # https://discuss.pytorch.org/t/dot-product-batch-wise/9746/11\n",
        "        pred = (src_emb * dest_emb).sum(1)\n",
        "\n",
        "\n",
        "        return pred\n",
        "\n",
        "    def loss(self, pred, link_label):\n",
        "        return self.loss_fn(pred, link_label)"
      ]
    },
    {
      "cell_type": "code",
      "execution_count": 32,
      "metadata": {
        "id": "uuKbGFOu1Ka8"
      },
      "outputs": [],
      "source": [
        "from sklearn.metrics import *\n",
        "\n",
        "def train(model, dataloaders, optimizer, args):\n",
        "    val_max = 0\n",
        "    best_model = model\n",
        "\n",
        "    for epoch in range(1, args[\"epochs\"]):\n",
        "        for i, batch in enumerate(dataloaders['train']):\n",
        "\n",
        "            batch.to(args[\"device\"])\n",
        "            model.train()\n",
        "            optimizer.zero_grad()\n",
        "            pred = model(batch)\n",
        "            loss = model.loss(pred, batch.edge_label.float())\n",
        "            loss.backward()\n",
        "            optimizer.step()\n",
        "\n",
        "            ############# Your code here #############\n",
        "            ## (~5 lines of code)\n",
        "            ## Note\n",
        "            ## 1. Zero grad the optimizer\n",
        "            ## 2. Get the model predictions for the current batch\n",
        "            ## 3. Convert the true labels to the same datatype as the predictions\n",
        "            ## 4. Compute loss and backpropagate\n",
        "            ## 5. Update the model parameters\n",
        "            pass\n",
        "            ##########################################\n",
        "\n",
        "            log = 'Epoch: {:03d}, Train: {:.4f}, Val: {:.4f}, Test: {:.4f}, Loss: {}'\n",
        "            score_train = test(model, dataloaders['train'], args)\n",
        "            score_val = test(model, dataloaders['val'], args)\n",
        "            score_test = test(model, dataloaders['test'], args)\n",
        "\n",
        "            print(log.format(epoch, score_train, score_val, score_test, loss.item()))\n",
        "            if val_max < score_val:\n",
        "                val_max = score_val\n",
        "                best_model = copy.deepcopy(model)\n",
        "    return best_model\n",
        "\n",
        "def test(model, dataloader, args, save_model_preds=False):\n",
        "    model.eval()\n",
        "\n",
        "    score = 0\n",
        "    preds = []\n",
        "    labels = []\n",
        "\n",
        "    ############# Your code here #############\n",
        "    ## (~7 lines of code)\n",
        "    ## Note\n",
        "    ## 1. Loop through batches in the dataloader (Note for us there is only one batch!)\n",
        "    ## 2. Feed the batch to the model\n",
        "    ## 3. Feed the model output to sigmoid\n",
        "    ## 4. Compute the ROC-AUC score by using sklearn roc_auc_score function\n",
        "    ##    Note: Look into flattening and converting torch tensors into numpy arrays\n",
        "    ## 5. Edge labels are stored in batch.edge_label\n",
        "    ## 6. Make sure to save your **numpy** model predictions as 'preds'\n",
        "    ##    and the **numpy** edge labels as 'labels'\n",
        "    pass\n",
        "    ##########################################\n",
        "\n",
        "    for batch in dataloader:\n",
        "        batch.to(args['device'])\n",
        "        with torch.no_grad():\n",
        "            out = model(batch)\n",
        "            out = torch.sigmoid(out)\n",
        "            pred = out.cpu().numpy()\n",
        "            label = batch.edge_label.cpu().numpy()\n",
        "            preds.append(pred)\n",
        "            labels.append(label)\n",
        "    flatpred=[item for sublist in preds for item in sublist]\n",
        "    flatlabel=[item for sublist in labels for item in sublist]\n",
        "    score = roc_auc_score(flatlabel, flatpred)\n",
        "\n",
        "    if save_model_preds:\n",
        "        print (\"Saving Link Classification Model Predictions\")\n",
        "        print()\n",
        "\n",
        "        data = {}\n",
        "        data['pred'] = flatpred\n",
        "        data['label'] = flatlabel\n",
        "\n",
        "        df = pd.DataFrame(data=data)\n",
        "        # Save locally as csv\n",
        "        df.to_csv('CORA-Link-Prediction.csv', sep=',', index=False)\n",
        "\n",
        "    return score"
      ]
    },
    {
      "cell_type": "code",
      "execution_count": 33,
      "metadata": {
        "id": "JTKWYX1b33V3"
      },
      "outputs": [],
      "source": [
        "# Please don't change any parameters\n",
        "args = {\n",
        "    \"device\" : 'cuda' if torch.cuda.is_available() else 'cpu',\n",
        "    \"hidden_dim\" : 128,\n",
        "    \"epochs\" : 200,\n",
        "}"
      ]
    },
    {
      "cell_type": "code",
      "execution_count": 34,
      "metadata": {
        "colab": {
          "base_uri": "https://localhost:8080/"
        },
        "id": "Klw_xYnE27xQ",
        "outputId": "d5243dc5-2120-4089-838c-a1426da3cd5c"
      },
      "outputs": [
        {
          "output_type": "stream",
          "name": "stdout",
          "text": [
            "Epoch: 001, Train: 0.5952, Val: 0.5689, Test: 0.5927, Loss: 0.7227885127067566\n",
            "Epoch: 002, Train: 0.6159, Val: 0.5911, Test: 0.6153, Loss: 0.7161902189254761\n",
            "Epoch: 003, Train: 0.6495, Val: 0.6219, Test: 0.6465, Loss: 0.7084857225418091\n",
            "Epoch: 004, Train: 0.6759, Val: 0.6545, Test: 0.6802, Loss: 0.7002949118614197\n",
            "Epoch: 005, Train: 0.7062, Val: 0.6867, Test: 0.7118, Loss: 0.6950657367706299\n",
            "Epoch: 006, Train: 0.7209, Val: 0.7160, Test: 0.7399, Loss: 0.6916707158088684\n",
            "Epoch: 007, Train: 0.7450, Val: 0.7388, Test: 0.7613, Loss: 0.6896853446960449\n",
            "Epoch: 008, Train: 0.7588, Val: 0.7507, Test: 0.7737, Loss: 0.6878434419631958\n",
            "Epoch: 009, Train: 0.7640, Val: 0.7503, Test: 0.7752, Loss: 0.6875792741775513\n",
            "Epoch: 010, Train: 0.7564, Val: 0.7426, Test: 0.7657, Loss: 0.6869145631790161\n",
            "Epoch: 011, Train: 0.7419, Val: 0.7284, Test: 0.7492, Loss: 0.6861945390701294\n",
            "Epoch: 012, Train: 0.7279, Val: 0.7114, Test: 0.7309, Loss: 0.6864748001098633\n",
            "Epoch: 013, Train: 0.7061, Val: 0.6965, Test: 0.7123, Loss: 0.6865112781524658\n",
            "Epoch: 014, Train: 0.7003, Val: 0.6835, Test: 0.6964, Loss: 0.6854252219200134\n",
            "Epoch: 015, Train: 0.6925, Val: 0.6743, Test: 0.6854, Loss: 0.6854804158210754\n",
            "Epoch: 016, Train: 0.6852, Val: 0.6677, Test: 0.6776, Loss: 0.6852207779884338\n",
            "Epoch: 017, Train: 0.6801, Val: 0.6645, Test: 0.6739, Loss: 0.6846995949745178\n",
            "Epoch: 018, Train: 0.6941, Val: 0.6641, Test: 0.6733, Loss: 0.6844298243522644\n",
            "Epoch: 019, Train: 0.6934, Val: 0.6671, Test: 0.6759, Loss: 0.6833075881004333\n",
            "Epoch: 020, Train: 0.6914, Val: 0.6711, Test: 0.6799, Loss: 0.6816301345825195\n",
            "Epoch: 021, Train: 0.7004, Val: 0.6761, Test: 0.6854, Loss: 0.6807880997657776\n",
            "Epoch: 022, Train: 0.7057, Val: 0.6819, Test: 0.6923, Loss: 0.679377555847168\n",
            "Epoch: 023, Train: 0.7201, Val: 0.6910, Test: 0.7019, Loss: 0.6793692111968994\n",
            "Epoch: 024, Train: 0.7294, Val: 0.7021, Test: 0.7133, Loss: 0.6775028705596924\n",
            "Epoch: 025, Train: 0.7389, Val: 0.7147, Test: 0.7272, Loss: 0.6756144165992737\n",
            "Epoch: 026, Train: 0.7585, Val: 0.7283, Test: 0.7418, Loss: 0.6739805936813354\n",
            "Epoch: 027, Train: 0.7722, Val: 0.7425, Test: 0.7563, Loss: 0.6707639694213867\n",
            "Epoch: 028, Train: 0.7878, Val: 0.7553, Test: 0.7695, Loss: 0.6687281131744385\n",
            "Epoch: 029, Train: 0.7946, Val: 0.7681, Test: 0.7826, Loss: 0.6674634218215942\n",
            "Epoch: 030, Train: 0.8133, Val: 0.7814, Test: 0.7957, Loss: 0.6640634536743164\n",
            "Epoch: 031, Train: 0.8080, Val: 0.7930, Test: 0.8082, Loss: 0.6602791547775269\n",
            "Epoch: 032, Train: 0.8259, Val: 0.8021, Test: 0.8176, Loss: 0.6561101078987122\n",
            "Epoch: 033, Train: 0.8389, Val: 0.8094, Test: 0.8250, Loss: 0.652964174747467\n",
            "Epoch: 034, Train: 0.8313, Val: 0.8147, Test: 0.8302, Loss: 0.6484802961349487\n",
            "Epoch: 035, Train: 0.8442, Val: 0.8183, Test: 0.8328, Loss: 0.6420379877090454\n",
            "Epoch: 036, Train: 0.8363, Val: 0.8198, Test: 0.8339, Loss: 0.6361731290817261\n",
            "Epoch: 037, Train: 0.8267, Val: 0.8215, Test: 0.8341, Loss: 0.6314957737922668\n",
            "Epoch: 038, Train: 0.8357, Val: 0.8224, Test: 0.8331, Loss: 0.6249995827674866\n",
            "Epoch: 039, Train: 0.8247, Val: 0.8224, Test: 0.8313, Loss: 0.6161697506904602\n",
            "Epoch: 040, Train: 0.8439, Val: 0.8228, Test: 0.8289, Loss: 0.6093236804008484\n",
            "Epoch: 041, Train: 0.8216, Val: 0.8215, Test: 0.8254, Loss: 0.6031720638275146\n",
            "Epoch: 042, Train: 0.8323, Val: 0.8201, Test: 0.8216, Loss: 0.599077582359314\n",
            "Epoch: 043, Train: 0.8176, Val: 0.8197, Test: 0.8205, Loss: 0.588939368724823\n",
            "Epoch: 044, Train: 0.8286, Val: 0.8220, Test: 0.8237, Loss: 0.580163300037384\n",
            "Epoch: 045, Train: 0.8289, Val: 0.8240, Test: 0.8256, Loss: 0.5792216062545776\n",
            "Epoch: 046, Train: 0.8366, Val: 0.8263, Test: 0.8276, Loss: 0.5689696669578552\n",
            "Epoch: 047, Train: 0.8348, Val: 0.8289, Test: 0.8305, Loss: 0.565143883228302\n",
            "Epoch: 048, Train: 0.8384, Val: 0.8314, Test: 0.8321, Loss: 0.5606988072395325\n",
            "Epoch: 049, Train: 0.8501, Val: 0.8349, Test: 0.8346, Loss: 0.562116265296936\n",
            "Epoch: 050, Train: 0.8480, Val: 0.8397, Test: 0.8395, Loss: 0.5542453527450562\n",
            "Epoch: 051, Train: 0.8491, Val: 0.8455, Test: 0.8472, Loss: 0.5419806838035583\n",
            "Epoch: 052, Train: 0.8664, Val: 0.8514, Test: 0.8547, Loss: 0.5640865564346313\n",
            "Epoch: 053, Train: 0.8706, Val: 0.8564, Test: 0.8603, Loss: 0.5270002484321594\n",
            "Epoch: 054, Train: 0.8703, Val: 0.8604, Test: 0.8636, Loss: 0.5362974405288696\n",
            "Epoch: 055, Train: 0.8817, Val: 0.8633, Test: 0.8655, Loss: 0.5439122319221497\n",
            "Epoch: 056, Train: 0.8857, Val: 0.8634, Test: 0.8651, Loss: 0.5354500412940979\n",
            "Epoch: 057, Train: 0.8790, Val: 0.8628, Test: 0.8658, Loss: 0.5288811922073364\n",
            "Epoch: 058, Train: 0.8899, Val: 0.8645, Test: 0.8685, Loss: 0.518230676651001\n",
            "Epoch: 059, Train: 0.9048, Val: 0.8675, Test: 0.8714, Loss: 0.525728166103363\n",
            "Epoch: 060, Train: 0.8952, Val: 0.8684, Test: 0.8728, Loss: 0.5213253498077393\n",
            "Epoch: 061, Train: 0.8979, Val: 0.8688, Test: 0.8734, Loss: 0.5214453935623169\n",
            "Epoch: 062, Train: 0.9032, Val: 0.8693, Test: 0.8743, Loss: 0.5140165686607361\n",
            "Epoch: 063, Train: 0.8996, Val: 0.8690, Test: 0.8751, Loss: 0.5276634097099304\n",
            "Epoch: 064, Train: 0.9063, Val: 0.8683, Test: 0.8765, Loss: 0.5145621299743652\n",
            "Epoch: 065, Train: 0.9092, Val: 0.8709, Test: 0.8797, Loss: 0.506599485874176\n",
            "Epoch: 066, Train: 0.9044, Val: 0.8739, Test: 0.8828, Loss: 0.5262407660484314\n",
            "Epoch: 067, Train: 0.9152, Val: 0.8770, Test: 0.8846, Loss: 0.511256992816925\n",
            "Epoch: 068, Train: 0.9128, Val: 0.8789, Test: 0.8852, Loss: 0.5075238943099976\n",
            "Epoch: 069, Train: 0.9186, Val: 0.8789, Test: 0.8850, Loss: 0.5129883885383606\n",
            "Epoch: 070, Train: 0.9157, Val: 0.8800, Test: 0.8866, Loss: 0.5049903392791748\n",
            "Epoch: 071, Train: 0.9247, Val: 0.8812, Test: 0.8888, Loss: 0.5035724639892578\n",
            "Epoch: 072, Train: 0.9195, Val: 0.8794, Test: 0.8887, Loss: 0.4976418614387512\n",
            "Epoch: 073, Train: 0.9199, Val: 0.8797, Test: 0.8888, Loss: 0.49601873755455017\n",
            "Epoch: 074, Train: 0.9281, Val: 0.8822, Test: 0.8901, Loss: 0.49934259057044983\n",
            "Epoch: 075, Train: 0.9283, Val: 0.8844, Test: 0.8908, Loss: 0.49282658100128174\n",
            "Epoch: 076, Train: 0.9232, Val: 0.8863, Test: 0.8910, Loss: 0.4988771975040436\n",
            "Epoch: 077, Train: 0.9234, Val: 0.8878, Test: 0.8914, Loss: 0.503538966178894\n",
            "Epoch: 078, Train: 0.9344, Val: 0.8875, Test: 0.8911, Loss: 0.4966658353805542\n",
            "Epoch: 079, Train: 0.9285, Val: 0.8861, Test: 0.8901, Loss: 0.4860561788082123\n",
            "Epoch: 080, Train: 0.9329, Val: 0.8865, Test: 0.8912, Loss: 0.48592332005500793\n",
            "Epoch: 081, Train: 0.9311, Val: 0.8892, Test: 0.8937, Loss: 0.49828776717185974\n",
            "Epoch: 082, Train: 0.9325, Val: 0.8899, Test: 0.8942, Loss: 0.4801258444786072\n",
            "Epoch: 083, Train: 0.9320, Val: 0.8910, Test: 0.8940, Loss: 0.4948285222053528\n",
            "Epoch: 084, Train: 0.9400, Val: 0.8923, Test: 0.8946, Loss: 0.4844817817211151\n",
            "Epoch: 085, Train: 0.9421, Val: 0.8935, Test: 0.8950, Loss: 0.4845600724220276\n",
            "Epoch: 086, Train: 0.9437, Val: 0.8927, Test: 0.8943, Loss: 0.4848989248275757\n",
            "Epoch: 087, Train: 0.9455, Val: 0.8918, Test: 0.8938, Loss: 0.4714156985282898\n",
            "Epoch: 088, Train: 0.9396, Val: 0.8932, Test: 0.8956, Loss: 0.479816198348999\n",
            "Epoch: 089, Train: 0.9451, Val: 0.8953, Test: 0.8973, Loss: 0.4818514883518219\n",
            "Epoch: 090, Train: 0.9444, Val: 0.8952, Test: 0.8977, Loss: 0.4723784923553467\n",
            "Epoch: 091, Train: 0.9481, Val: 0.8960, Test: 0.8979, Loss: 0.4917777478694916\n",
            "Epoch: 092, Train: 0.9504, Val: 0.8968, Test: 0.8985, Loss: 0.4759385287761688\n",
            "Epoch: 093, Train: 0.9510, Val: 0.8966, Test: 0.8984, Loss: 0.47658124566078186\n",
            "Epoch: 094, Train: 0.9482, Val: 0.8959, Test: 0.8982, Loss: 0.48080629110336304\n",
            "Epoch: 095, Train: 0.9560, Val: 0.8968, Test: 0.8990, Loss: 0.48237988352775574\n",
            "Epoch: 096, Train: 0.9548, Val: 0.8988, Test: 0.9003, Loss: 0.4680458605289459\n",
            "Epoch: 097, Train: 0.9581, Val: 0.8995, Test: 0.9007, Loss: 0.47071531414985657\n",
            "Epoch: 098, Train: 0.9514, Val: 0.8993, Test: 0.9005, Loss: 0.46990829706192017\n",
            "Epoch: 099, Train: 0.9577, Val: 0.8997, Test: 0.9010, Loss: 0.47604694962501526\n",
            "Epoch: 100, Train: 0.9584, Val: 0.8994, Test: 0.9012, Loss: 0.46343451738357544\n",
            "Epoch: 101, Train: 0.9589, Val: 0.8985, Test: 0.9011, Loss: 0.4660569727420807\n",
            "Epoch: 102, Train: 0.9556, Val: 0.8984, Test: 0.9010, Loss: 0.46790462732315063\n",
            "Epoch: 103, Train: 0.9556, Val: 0.8993, Test: 0.9018, Loss: 0.4640694856643677\n",
            "Epoch: 104, Train: 0.9654, Val: 0.8999, Test: 0.9021, Loss: 0.4595719277858734\n",
            "Epoch: 105, Train: 0.9641, Val: 0.9005, Test: 0.9026, Loss: 0.4659385681152344\n",
            "Epoch: 106, Train: 0.9641, Val: 0.9010, Test: 0.9032, Loss: 0.4670329689979553\n",
            "Epoch: 107, Train: 0.9608, Val: 0.9018, Test: 0.9042, Loss: 0.46982118487358093\n",
            "Epoch: 108, Train: 0.9648, Val: 0.9014, Test: 0.9039, Loss: 0.46576422452926636\n",
            "Epoch: 109, Train: 0.9664, Val: 0.9002, Test: 0.9035, Loss: 0.46218353509902954\n",
            "Epoch: 110, Train: 0.9599, Val: 0.9000, Test: 0.9039, Loss: 0.458977609872818\n",
            "Epoch: 111, Train: 0.9607, Val: 0.9009, Test: 0.9044, Loss: 0.4611842632293701\n",
            "Epoch: 112, Train: 0.9690, Val: 0.9022, Test: 0.9043, Loss: 0.465716689825058\n",
            "Epoch: 113, Train: 0.9662, Val: 0.9026, Test: 0.9047, Loss: 0.46098095178604126\n",
            "Epoch: 114, Train: 0.9688, Val: 0.9027, Test: 0.9057, Loss: 0.4549228250980377\n",
            "Epoch: 115, Train: 0.9690, Val: 0.9019, Test: 0.9058, Loss: 0.4648584723472595\n",
            "Epoch: 116, Train: 0.9659, Val: 0.9008, Test: 0.9053, Loss: 0.4633827805519104\n",
            "Epoch: 117, Train: 0.9690, Val: 0.9015, Test: 0.9057, Loss: 0.4682157635688782\n",
            "Epoch: 118, Train: 0.9713, Val: 0.9034, Test: 0.9068, Loss: 0.46773993968963623\n",
            "Epoch: 119, Train: 0.9687, Val: 0.9048, Test: 0.9070, Loss: 0.4634876847267151\n",
            "Epoch: 120, Train: 0.9673, Val: 0.9054, Test: 0.9071, Loss: 0.4551984965801239\n",
            "Epoch: 121, Train: 0.9752, Val: 0.9045, Test: 0.9069, Loss: 0.4538591504096985\n",
            "Epoch: 122, Train: 0.9694, Val: 0.9030, Test: 0.9066, Loss: 0.4505176842212677\n",
            "Epoch: 123, Train: 0.9669, Val: 0.9015, Test: 0.9061, Loss: 0.46254363656044006\n",
            "Epoch: 124, Train: 0.9674, Val: 0.9014, Test: 0.9063, Loss: 0.45560967922210693\n",
            "Epoch: 125, Train: 0.9729, Val: 0.9027, Test: 0.9073, Loss: 0.4583543837070465\n",
            "Epoch: 126, Train: 0.9755, Val: 0.9038, Test: 0.9073, Loss: 0.4457276463508606\n",
            "Epoch: 127, Train: 0.9716, Val: 0.9040, Test: 0.9071, Loss: 0.4524083137512207\n",
            "Epoch: 128, Train: 0.9756, Val: 0.9044, Test: 0.9081, Loss: 0.4437830150127411\n",
            "Epoch: 129, Train: 0.9752, Val: 0.9046, Test: 0.9087, Loss: 0.4428308308124542\n",
            "Epoch: 130, Train: 0.9735, Val: 0.9028, Test: 0.9079, Loss: 0.44831541180610657\n",
            "Epoch: 131, Train: 0.9767, Val: 0.9020, Test: 0.9072, Loss: 0.449701726436615\n",
            "Epoch: 132, Train: 0.9737, Val: 0.9023, Test: 0.9066, Loss: 0.4387054443359375\n",
            "Epoch: 133, Train: 0.9733, Val: 0.9021, Test: 0.9061, Loss: 0.4353857934474945\n",
            "Epoch: 134, Train: 0.9767, Val: 0.9028, Test: 0.9064, Loss: 0.4479321837425232\n",
            "Epoch: 135, Train: 0.9754, Val: 0.9038, Test: 0.9073, Loss: 0.4434327483177185\n",
            "Epoch: 136, Train: 0.9778, Val: 0.9043, Test: 0.9081, Loss: 0.4525876045227051\n",
            "Epoch: 137, Train: 0.9801, Val: 0.9041, Test: 0.9085, Loss: 0.4462326765060425\n",
            "Epoch: 138, Train: 0.9790, Val: 0.9026, Test: 0.9079, Loss: 0.4426170289516449\n",
            "Epoch: 139, Train: 0.9774, Val: 0.9018, Test: 0.9073, Loss: 0.44660311937332153\n",
            "Epoch: 140, Train: 0.9759, Val: 0.9023, Test: 0.9074, Loss: 0.44296231865882874\n",
            "Epoch: 141, Train: 0.9781, Val: 0.9027, Test: 0.9078, Loss: 0.45250946283340454\n",
            "Epoch: 142, Train: 0.9769, Val: 0.9039, Test: 0.9079, Loss: 0.4421565532684326\n",
            "Epoch: 143, Train: 0.9817, Val: 0.9045, Test: 0.9083, Loss: 0.4496724307537079\n",
            "Epoch: 144, Train: 0.9841, Val: 0.9042, Test: 0.9085, Loss: 0.44294264912605286\n",
            "Epoch: 145, Train: 0.9816, Val: 0.9026, Test: 0.9076, Loss: 0.43917396664619446\n",
            "Epoch: 146, Train: 0.9805, Val: 0.9013, Test: 0.9068, Loss: 0.4386339485645294\n",
            "Epoch: 147, Train: 0.9813, Val: 0.9006, Test: 0.9063, Loss: 0.4383600354194641\n",
            "Epoch: 148, Train: 0.9797, Val: 0.9006, Test: 0.9063, Loss: 0.4464322030544281\n",
            "Epoch: 149, Train: 0.9826, Val: 0.9013, Test: 0.9068, Loss: 0.4356093108654022\n",
            "Epoch: 150, Train: 0.9817, Val: 0.9022, Test: 0.9078, Loss: 0.4480554163455963\n",
            "Epoch: 151, Train: 0.9824, Val: 0.9026, Test: 0.9082, Loss: 0.42935842275619507\n",
            "Epoch: 152, Train: 0.9828, Val: 0.9028, Test: 0.9080, Loss: 0.4408615231513977\n",
            "Epoch: 153, Train: 0.9834, Val: 0.9021, Test: 0.9069, Loss: 0.4315067231655121\n",
            "Epoch: 154, Train: 0.9839, Val: 0.9019, Test: 0.9063, Loss: 0.442516028881073\n",
            "Epoch: 155, Train: 0.9817, Val: 0.9011, Test: 0.9058, Loss: 0.4360256791114807\n",
            "Epoch: 156, Train: 0.9784, Val: 0.9009, Test: 0.9058, Loss: 0.4328903555870056\n",
            "Epoch: 157, Train: 0.9827, Val: 0.9013, Test: 0.9063, Loss: 0.43623313307762146\n",
            "Epoch: 158, Train: 0.9870, Val: 0.9017, Test: 0.9070, Loss: 0.43127334117889404\n",
            "Epoch: 159, Train: 0.9810, Val: 0.9019, Test: 0.9073, Loss: 0.4296075701713562\n",
            "Epoch: 160, Train: 0.9846, Val: 0.9027, Test: 0.9074, Loss: 0.4387660622596741\n",
            "Epoch: 161, Train: 0.9869, Val: 0.9032, Test: 0.9074, Loss: 0.43486303091049194\n",
            "Epoch: 162, Train: 0.9839, Val: 0.9031, Test: 0.9070, Loss: 0.43568122386932373\n",
            "Epoch: 163, Train: 0.9841, Val: 0.9029, Test: 0.9067, Loss: 0.4339493215084076\n",
            "Epoch: 164, Train: 0.9834, Val: 0.9025, Test: 0.9063, Loss: 0.4392581284046173\n",
            "Epoch: 165, Train: 0.9847, Val: 0.9021, Test: 0.9059, Loss: 0.432313472032547\n",
            "Epoch: 166, Train: 0.9844, Val: 0.9019, Test: 0.9063, Loss: 0.4332917630672455\n",
            "Epoch: 167, Train: 0.9857, Val: 0.9023, Test: 0.9069, Loss: 0.4420253038406372\n",
            "Epoch: 168, Train: 0.9830, Val: 0.9018, Test: 0.9071, Loss: 0.4451642334461212\n",
            "Epoch: 169, Train: 0.9845, Val: 0.9020, Test: 0.9070, Loss: 0.43397215008735657\n",
            "Epoch: 170, Train: 0.9885, Val: 0.9019, Test: 0.9065, Loss: 0.4228661060333252\n",
            "Epoch: 171, Train: 0.9868, Val: 0.9020, Test: 0.9059, Loss: 0.43710893392562866\n",
            "Epoch: 172, Train: 0.9866, Val: 0.9019, Test: 0.9056, Loss: 0.42647889256477356\n",
            "Epoch: 173, Train: 0.9883, Val: 0.9029, Test: 0.9060, Loss: 0.43495726585388184\n",
            "Epoch: 174, Train: 0.9883, Val: 0.9031, Test: 0.9063, Loss: 0.4301733672618866\n",
            "Epoch: 175, Train: 0.9894, Val: 0.9032, Test: 0.9065, Loss: 0.4349384605884552\n",
            "Epoch: 176, Train: 0.9857, Val: 0.9032, Test: 0.9066, Loss: 0.4337087571620941\n",
            "Epoch: 177, Train: 0.9892, Val: 0.9030, Test: 0.9062, Loss: 0.43098369240760803\n",
            "Epoch: 178, Train: 0.9893, Val: 0.9023, Test: 0.9057, Loss: 0.42382317781448364\n",
            "Epoch: 179, Train: 0.9842, Val: 0.9016, Test: 0.9050, Loss: 0.4335693120956421\n",
            "Epoch: 180, Train: 0.9896, Val: 0.9016, Test: 0.9049, Loss: 0.4368191957473755\n",
            "Epoch: 181, Train: 0.9890, Val: 0.9020, Test: 0.9049, Loss: 0.42603805661201477\n",
            "Epoch: 182, Train: 0.9862, Val: 0.9020, Test: 0.9051, Loss: 0.43626847863197327\n",
            "Epoch: 183, Train: 0.9893, Val: 0.9022, Test: 0.9053, Loss: 0.42715317010879517\n",
            "Epoch: 184, Train: 0.9870, Val: 0.9028, Test: 0.9060, Loss: 0.4347642958164215\n",
            "Epoch: 185, Train: 0.9883, Val: 0.9029, Test: 0.9061, Loss: 0.4346189498901367\n",
            "Epoch: 186, Train: 0.9889, Val: 0.9025, Test: 0.9063, Loss: 0.4344642460346222\n",
            "Epoch: 187, Train: 0.9871, Val: 0.9025, Test: 0.9060, Loss: 0.42554834485054016\n",
            "Epoch: 188, Train: 0.9910, Val: 0.9021, Test: 0.9058, Loss: 0.428531676530838\n",
            "Epoch: 189, Train: 0.9875, Val: 0.9020, Test: 0.9054, Loss: 0.4269232749938965\n",
            "Epoch: 190, Train: 0.9895, Val: 0.9013, Test: 0.9045, Loss: 0.42263278365135193\n",
            "Epoch: 191, Train: 0.9896, Val: 0.9013, Test: 0.9045, Loss: 0.4235087037086487\n",
            "Epoch: 192, Train: 0.9886, Val: 0.9021, Test: 0.9051, Loss: 0.42478758096694946\n",
            "Epoch: 193, Train: 0.9895, Val: 0.9031, Test: 0.9057, Loss: 0.4296879768371582\n",
            "Epoch: 194, Train: 0.9904, Val: 0.9025, Test: 0.9057, Loss: 0.426663875579834\n",
            "Epoch: 195, Train: 0.9889, Val: 0.9024, Test: 0.9055, Loss: 0.43119093775749207\n",
            "Epoch: 196, Train: 0.9901, Val: 0.9030, Test: 0.9059, Loss: 0.42594900727272034\n",
            "Epoch: 197, Train: 0.9898, Val: 0.9023, Test: 0.9055, Loss: 0.4286084771156311\n",
            "Epoch: 198, Train: 0.9887, Val: 0.9019, Test: 0.9048, Loss: 0.4257447421550751\n",
            "Epoch: 199, Train: 0.9904, Val: 0.9021, Test: 0.9047, Loss: 0.4316418170928955\n",
            "Saving Link Classification Model Predictions\n",
            "\n",
            "Best Model Accuraies Train: 0.9708, Val: 0.9054, Test: 0.9071\n"
          ]
        }
      ],
      "source": [
        "if 'IS_GRADESCOPE_ENV' not in os.environ:\n",
        "  pyg_dataset = Planetoid('./tmp/cora', 'Cora')\n",
        "  graphs = GraphDataset.pyg_to_graphs(pyg_dataset)\n",
        "\n",
        "  dataset = GraphDataset(\n",
        "          graphs,\n",
        "          task='link_pred',\n",
        "          edge_train_mode=\"disjoint\"\n",
        "      )\n",
        "  datasets = {}\n",
        "  datasets['train'], datasets['val'], datasets['test']= dataset.split(\n",
        "              transductive=True, split_ratio=[0.85, 0.05, 0.1])\n",
        "  input_dim = datasets['train'].num_node_features\n",
        "  num_classes = datasets['train'].num_edge_labels\n",
        "\n",
        "  model = LinkPredModel(input_dim, args[\"hidden_dim\"], num_classes).to(args[\"device\"])\n",
        "\n",
        "  # Disable compile as this does not seem to work yet in PyTorch 2.0.1/PyG 2.3.1\n",
        "  # try:\n",
        "  #   model = torch_geometric.compile(model)\n",
        "  #   print(f\"LinkPredModel Model compiled\")\n",
        "  # except Exception as err:\n",
        "  #   print(f\"Model compile not supported: {err}\")\n",
        "\n",
        "  model.reset_parameters()\n",
        "\n",
        "  optimizer = torch.optim.SGD(model.parameters(), lr=0.1, momentum=0.9, weight_decay=5e-4)\n",
        "\n",
        "  dataloaders = {split: DataLoader(\n",
        "              ds, collate_fn=Batch.collate([]),\n",
        "              batch_size=1, shuffle=(split=='train'))\n",
        "              for split, ds in datasets.items()}\n",
        "  best_model = train(model, dataloaders, optimizer, args)\n",
        "  log = \"Best Model Accuraies Train: {:.4f}, Val: {:.4f}, Test: {:.4f}\"\n",
        "  best_train_roc = test(best_model, dataloaders['train'], args)\n",
        "  best_val_roc = test(best_model, dataloaders['val'], args)\n",
        "  best_test_roc = test(best_model, dataloaders['test'], args, save_model_preds=True)\n",
        "  print(log.format(best_train_roc, best_val_roc, best_test_roc))"
      ]
    },
    {
      "cell_type": "markdown",
      "metadata": {
        "id": "j5brlsKElP0_"
      },
      "source": [
        "## Question 5: What is the maximum ROC-AUC score you get for your best_model on test set? (15 points)\n",
        "\n",
        "\n",
        "After training your model, download and submit your best model prediction file: *CORA-Link-Prediction.csv*.  \n",
        "\n",
        "As we have seen before you can view this file by clicking on the *Folder* icon on the left side pannel."
      ]
    },
    {
      "cell_type": "markdown",
      "metadata": {
        "id": "e7JXsMTBgeOI"
      },
      "source": [
        "# Submission\n",
        "\n",
        "You will need to submit four files on Gradescope to complete this notebook.\n",
        "\n",
        "1.   Your completed *XCS224W_Colab3.ipynb*. From the \"File\" menu select \"Download .ipynb\" to save a local copy of your completed Colab.\n",
        "2.  *CORA-Node-GraphSage.csv*\n",
        "3.  *CORA-Node-GAT.csv*\n",
        "4.  *CORA-Link-Prediction.csv*\n",
        "\n",
        "Download the csv files by selecting the *Folder* icon on the left panel.\n",
        "\n",
        "To submit your work, zip the files downloaded in steps 1-4 above and submit to gradescope. **NOTE:** DO NOT rename any of the downloaded files."
      ]
    }
  ],
  "metadata": {
    "colab": {
      "provenance": []
    },
    "kernelspec": {
      "display_name": "Python 3",
      "name": "python3"
    },
    "language_info": {
      "codemirror_mode": {
        "name": "ipython",
        "version": 3
      },
      "file_extension": ".py",
      "mimetype": "text/x-python",
      "name": "python",
      "nbconvert_exporter": "python",
      "pygments_lexer": "ipython3",
      "version": "3.10.13"
    },
    "vscode": {
      "interpreter": {
        "hash": "f924b1a48e95c8c2f8ccec074c3308df864242dc668404ff7f1c5b20503f9f26"
      }
    }
  },
  "nbformat": 4,
  "nbformat_minor": 0
}